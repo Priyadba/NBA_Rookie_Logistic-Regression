{
  "cells": [
    {
      "cell_type": "markdown",
      "metadata": {
        "id": "C4vmhBRs3f6a"
      },
      "source": [
        "# Problem Statement"
      ]
    },
    {
      "cell_type": "markdown",
      "metadata": {
        "id": "iPpuDTL53f6d"
      },
      "source": [
        "The objective is to predict the 5-Year Career Longevity for NBA Rookies. The following are the rookie year statistics that will be used to predict whether or not a player lasts 5 years in the league: 'Year Drafted', 'GP', 'MIN', 'PTS', 'FGM', 'FGA', 'FG%', '3P Made', '3PA', '3P%', 'FTM', 'FTA', 'FT%', 'OREB', 'DREB', 'REB', 'AST', 'STL', 'BLK', 'TOV',  'TARGET_5Yrs'."
      ]
    },
    {
      "cell_type": "markdown",
      "metadata": {
        "id": "oxFVU4Gx3f6f"
      },
      "source": [
        "<h1>Objective</h1>"
      ]
    },
    {
      "cell_type": "markdown",
      "metadata": {
        "id": "xX728vpW3f6i"
      },
      "source": [
        "Analyse the dataset and predict whether or not a player lasts 5 years in the rookie league by using Machine Learning."
      ]
    },
    {
      "cell_type": "markdown",
      "metadata": {
        "id": "IjEPsrek3f6l"
      },
      "source": [
        "<h2>PART A</h2>"
      ]
    },
    {
      "cell_type": "markdown",
      "metadata": {
        "id": "b_TZkPc73f6n"
      },
      "source": [
        "### Import the required libraries and dataset"
      ]
    },
    {
      "cell_type": "markdown",
      "metadata": {
        "id": "6c06weBZ3f6r"
      },
      "source": [
        "Let's start with importing the relevant modules. We will read the dataset and try to understand the data."
      ]
    },
    {
      "cell_type": "code",
      "execution_count": null,
      "metadata": {
        "id": "gmPBPOJr3f6t"
      },
      "outputs": [],
      "source": [
        "import pandas as pd\n",
        "import numpy as np\n",
        "import matplotlib.pyplot as plt\n",
        "import seaborn as sns\n",
        "from sklearn.feature_selection import SelectKBest\n",
        "from sklearn.feature_selection import chi2\n",
        "from imblearn.over_sampling import BorderlineSMOTE,SMOTE\n",
        "from collections import Counter\n",
        "from sklearn.linear_model import LogisticRegression\n",
        "from sklearn.metrics import accuracy_score, f1_score, recall_score\n",
        "from sklearn.preprocessing import MinMaxScaler\n",
        "import statsmodels.api as sm\n",
        "from sklearn.metrics import confusion_matrix\n",
        "%matplotlib inline\n",
        "import warnings\n",
        "warnings.filterwarnings('ignore')"
      ]
    },
    {
      "cell_type": "markdown",
      "metadata": {
        "id": "QleAMIjW3f60"
      },
      "source": [
        "#### Read the CSV file"
      ]
    },
    {
      "cell_type": "code",
      "execution_count": null,
      "metadata": {
        "id": "VRXOQsii3f62"
      },
      "outputs": [],
      "source": [
        "# loading the dataset into our notebook\n",
        "data = pd.read_csv(\"nba_logreg.csv\")"
      ]
    },
    {
      "cell_type": "markdown",
      "metadata": {
        "id": "1xEdhCva3f63"
      },
      "source": [
        "## Data Visualization and Exploration \n"
      ]
    },
    {
      "cell_type": "markdown",
      "metadata": {
        "id": "dd2KGRQJ3f65"
      },
      "source": [
        "The purpose of this EDA is to find insights in the data which will serve us later for data preparation and transformation."
      ]
    },
    {
      "cell_type": "markdown",
      "metadata": {
        "id": "nNAv8jcL3f66"
      },
      "source": [
        "### Printing 2 rows to identify all the features present in the dataset"
      ]
    },
    {
      "cell_type": "code",
      "execution_count": null,
      "metadata": {
        "colab": {
          "base_uri": "https://localhost:8080/",
          "height": 112
        },
        "id": "fCmqey_G3f67",
        "outputId": "d812829f-1e22-465f-97af-6cf8643077b8"
      },
      "outputs": [
        {
          "output_type": "execute_result",
          "data": {
            "text/html": [
              "\n",
              "  <div id=\"df-0f6a4c85-3c7b-4020-9045-06191e88c696\">\n",
              "    <div class=\"colab-df-container\">\n",
              "      <div>\n",
              "<style scoped>\n",
              "    .dataframe tbody tr th:only-of-type {\n",
              "        vertical-align: middle;\n",
              "    }\n",
              "\n",
              "    .dataframe tbody tr th {\n",
              "        vertical-align: top;\n",
              "    }\n",
              "\n",
              "    .dataframe thead th {\n",
              "        text-align: right;\n",
              "    }\n",
              "</style>\n",
              "<table border=\"1\" class=\"dataframe\">\n",
              "  <thead>\n",
              "    <tr style=\"text-align: right;\">\n",
              "      <th></th>\n",
              "      <th>Name</th>\n",
              "      <th>GP</th>\n",
              "      <th>MIN</th>\n",
              "      <th>PTS</th>\n",
              "      <th>FGM</th>\n",
              "      <th>FGA</th>\n",
              "      <th>FG%</th>\n",
              "      <th>3P Made</th>\n",
              "      <th>3PA</th>\n",
              "      <th>3P%</th>\n",
              "      <th>FTM</th>\n",
              "      <th>FTA</th>\n",
              "      <th>FT%</th>\n",
              "      <th>OREB</th>\n",
              "      <th>DREB</th>\n",
              "      <th>REB</th>\n",
              "      <th>AST</th>\n",
              "      <th>STL</th>\n",
              "      <th>BLK</th>\n",
              "      <th>TOV</th>\n",
              "      <th>TARGET_5Yrs</th>\n",
              "    </tr>\n",
              "  </thead>\n",
              "  <tbody>\n",
              "    <tr>\n",
              "      <th>0</th>\n",
              "      <td>Brandon Ingram</td>\n",
              "      <td>NaN</td>\n",
              "      <td>27.4</td>\n",
              "      <td>7.4</td>\n",
              "      <td>2.6</td>\n",
              "      <td>7.6</td>\n",
              "      <td>34.7</td>\n",
              "      <td>0.5</td>\n",
              "      <td>2.1</td>\n",
              "      <td>25.0</td>\n",
              "      <td>1.6</td>\n",
              "      <td>2.3</td>\n",
              "      <td>69.9</td>\n",
              "      <td>0.7</td>\n",
              "      <td>3.4</td>\n",
              "      <td>4.1</td>\n",
              "      <td>1.9</td>\n",
              "      <td>0.4</td>\n",
              "      <td>0.4</td>\n",
              "      <td>1.3</td>\n",
              "      <td>0</td>\n",
              "    </tr>\n",
              "    <tr>\n",
              "      <th>1</th>\n",
              "      <td>Andrew Harrison</td>\n",
              "      <td>35.0</td>\n",
              "      <td>26.9</td>\n",
              "      <td>7.2</td>\n",
              "      <td>2.0</td>\n",
              "      <td>6.7</td>\n",
              "      <td>29.6</td>\n",
              "      <td>0.7</td>\n",
              "      <td>2.8</td>\n",
              "      <td>23.5</td>\n",
              "      <td>2.6</td>\n",
              "      <td>3.4</td>\n",
              "      <td>76.5</td>\n",
              "      <td>0.5</td>\n",
              "      <td>2.0</td>\n",
              "      <td>2.4</td>\n",
              "      <td>3.7</td>\n",
              "      <td>1.1</td>\n",
              "      <td>0.5</td>\n",
              "      <td>1.6</td>\n",
              "      <td>0</td>\n",
              "    </tr>\n",
              "  </tbody>\n",
              "</table>\n",
              "</div>\n",
              "      <button class=\"colab-df-convert\" onclick=\"convertToInteractive('df-0f6a4c85-3c7b-4020-9045-06191e88c696')\"\n",
              "              title=\"Convert this dataframe to an interactive table.\"\n",
              "              style=\"display:none;\">\n",
              "        \n",
              "  <svg xmlns=\"http://www.w3.org/2000/svg\" height=\"24px\"viewBox=\"0 0 24 24\"\n",
              "       width=\"24px\">\n",
              "    <path d=\"M0 0h24v24H0V0z\" fill=\"none\"/>\n",
              "    <path d=\"M18.56 5.44l.94 2.06.94-2.06 2.06-.94-2.06-.94-.94-2.06-.94 2.06-2.06.94zm-11 1L8.5 8.5l.94-2.06 2.06-.94-2.06-.94L8.5 2.5l-.94 2.06-2.06.94zm10 10l.94 2.06.94-2.06 2.06-.94-2.06-.94-.94-2.06-.94 2.06-2.06.94z\"/><path d=\"M17.41 7.96l-1.37-1.37c-.4-.4-.92-.59-1.43-.59-.52 0-1.04.2-1.43.59L10.3 9.45l-7.72 7.72c-.78.78-.78 2.05 0 2.83L4 21.41c.39.39.9.59 1.41.59.51 0 1.02-.2 1.41-.59l7.78-7.78 2.81-2.81c.8-.78.8-2.07 0-2.86zM5.41 20L4 18.59l7.72-7.72 1.47 1.35L5.41 20z\"/>\n",
              "  </svg>\n",
              "      </button>\n",
              "      \n",
              "  <style>\n",
              "    .colab-df-container {\n",
              "      display:flex;\n",
              "      flex-wrap:wrap;\n",
              "      gap: 12px;\n",
              "    }\n",
              "\n",
              "    .colab-df-convert {\n",
              "      background-color: #E8F0FE;\n",
              "      border: none;\n",
              "      border-radius: 50%;\n",
              "      cursor: pointer;\n",
              "      display: none;\n",
              "      fill: #1967D2;\n",
              "      height: 32px;\n",
              "      padding: 0 0 0 0;\n",
              "      width: 32px;\n",
              "    }\n",
              "\n",
              "    .colab-df-convert:hover {\n",
              "      background-color: #E2EBFA;\n",
              "      box-shadow: 0px 1px 2px rgba(60, 64, 67, 0.3), 0px 1px 3px 1px rgba(60, 64, 67, 0.15);\n",
              "      fill: #174EA6;\n",
              "    }\n",
              "\n",
              "    [theme=dark] .colab-df-convert {\n",
              "      background-color: #3B4455;\n",
              "      fill: #D2E3FC;\n",
              "    }\n",
              "\n",
              "    [theme=dark] .colab-df-convert:hover {\n",
              "      background-color: #434B5C;\n",
              "      box-shadow: 0px 1px 3px 1px rgba(0, 0, 0, 0.15);\n",
              "      filter: drop-shadow(0px 1px 2px rgba(0, 0, 0, 0.3));\n",
              "      fill: #FFFFFF;\n",
              "    }\n",
              "  </style>\n",
              "\n",
              "      <script>\n",
              "        const buttonEl =\n",
              "          document.querySelector('#df-0f6a4c85-3c7b-4020-9045-06191e88c696 button.colab-df-convert');\n",
              "        buttonEl.style.display =\n",
              "          google.colab.kernel.accessAllowed ? 'block' : 'none';\n",
              "\n",
              "        async function convertToInteractive(key) {\n",
              "          const element = document.querySelector('#df-0f6a4c85-3c7b-4020-9045-06191e88c696');\n",
              "          const dataTable =\n",
              "            await google.colab.kernel.invokeFunction('convertToInteractive',\n",
              "                                                     [key], {});\n",
              "          if (!dataTable) return;\n",
              "\n",
              "          const docLinkHtml = 'Like what you see? Visit the ' +\n",
              "            '<a target=\"_blank\" href=https://colab.research.google.com/notebooks/data_table.ipynb>data table notebook</a>'\n",
              "            + ' to learn more about interactive tables.';\n",
              "          element.innerHTML = '';\n",
              "          dataTable['output_type'] = 'display_data';\n",
              "          await google.colab.output.renderOutput(dataTable, element);\n",
              "          const docLink = document.createElement('div');\n",
              "          docLink.innerHTML = docLinkHtml;\n",
              "          element.appendChild(docLink);\n",
              "        }\n",
              "      </script>\n",
              "    </div>\n",
              "  </div>\n",
              "  "
            ],
            "text/plain": [
              "              Name    GP   MIN  PTS  FGM  ...  AST  STL  BLK  TOV  TARGET_5Yrs\n",
              "0   Brandon Ingram   NaN  27.4  7.4  2.6  ...  1.9  0.4  0.4  1.3            0\n",
              "1  Andrew Harrison  35.0  26.9  7.2  2.0  ...  3.7  1.1  0.5  1.6            0\n",
              "\n",
              "[2 rows x 21 columns]"
            ]
          },
          "metadata": {},
          "execution_count": 5
        }
      ],
      "source": [
        "data.head(2)"
      ]
    },
    {
      "cell_type": "code",
      "execution_count": null,
      "metadata": {
        "colab": {
          "base_uri": "https://localhost:8080/"
        },
        "id": "UUX33Sin3f6_",
        "outputId": "e3b0bc17-7cae-4f5d-9d89-33b96644a81e"
      },
      "outputs": [
        {
          "output_type": "execute_result",
          "data": {
            "text/plain": [
              "Index(['Name', 'GP', 'MIN', 'PTS', 'FGM', 'FGA', 'FG%', '3P Made', '3PA',\n",
              "       '3P%', 'FTM', 'FTA', 'FT%', 'OREB', 'DREB', 'REB', 'AST', 'STL', 'BLK',\n",
              "       'TOV', 'TARGET_5Yrs'],\n",
              "      dtype='object')"
            ]
          },
          "metadata": {},
          "execution_count": 6
        }
      ],
      "source": [
        "data.columns"
      ]
    },
    {
      "cell_type": "markdown",
      "metadata": {
        "id": "ZSslRHTU3f7B"
      },
      "source": [
        " ### Description and Basic statistical details"
      ]
    },
    {
      "cell_type": "markdown",
      "metadata": {
        "id": "8XXg9gXJ3f7C"
      },
      "source": [
        "We will look into the data desciption and data types to understand more about the data"
      ]
    },
    {
      "cell_type": "code",
      "execution_count": null,
      "metadata": {
        "colab": {
          "base_uri": "https://localhost:8080/",
          "height": 364
        },
        "id": "Z3Hn3UYY3f7D",
        "outputId": "a65e6bea-4160-4eca-fca2-9f64f4b66793"
      },
      "outputs": [
        {
          "output_type": "execute_result",
          "data": {
            "text/html": [
              "\n",
              "  <div id=\"df-26c82cea-110e-4569-8c16-18bf0f17dd6a\">\n",
              "    <div class=\"colab-df-container\">\n",
              "      <div>\n",
              "<style scoped>\n",
              "    .dataframe tbody tr th:only-of-type {\n",
              "        vertical-align: middle;\n",
              "    }\n",
              "\n",
              "    .dataframe tbody tr th {\n",
              "        vertical-align: top;\n",
              "    }\n",
              "\n",
              "    .dataframe thead th {\n",
              "        text-align: right;\n",
              "    }\n",
              "</style>\n",
              "<table border=\"1\" class=\"dataframe\">\n",
              "  <thead>\n",
              "    <tr style=\"text-align: right;\">\n",
              "      <th></th>\n",
              "      <th>GP</th>\n",
              "      <th>MIN</th>\n",
              "      <th>PTS</th>\n",
              "      <th>FGM</th>\n",
              "      <th>FGA</th>\n",
              "      <th>FG%</th>\n",
              "      <th>3P Made</th>\n",
              "      <th>3PA</th>\n",
              "      <th>3P%</th>\n",
              "      <th>FTM</th>\n",
              "      <th>FTA</th>\n",
              "      <th>FT%</th>\n",
              "      <th>OREB</th>\n",
              "      <th>DREB</th>\n",
              "      <th>REB</th>\n",
              "      <th>AST</th>\n",
              "      <th>STL</th>\n",
              "      <th>BLK</th>\n",
              "      <th>TOV</th>\n",
              "      <th>TARGET_5Yrs</th>\n",
              "    </tr>\n",
              "  </thead>\n",
              "  <tbody>\n",
              "    <tr>\n",
              "      <th>count</th>\n",
              "      <td>1331.000000</td>\n",
              "      <td>1336.000000</td>\n",
              "      <td>1340.000000</td>\n",
              "      <td>1340.000000</td>\n",
              "      <td>1340.000000</td>\n",
              "      <td>1340.000000</td>\n",
              "      <td>1340.000000</td>\n",
              "      <td>1340.000000</td>\n",
              "      <td>1329.000000</td>\n",
              "      <td>1340.000000</td>\n",
              "      <td>1340.000000</td>\n",
              "      <td>1328.000000</td>\n",
              "      <td>1336.00000</td>\n",
              "      <td>1340.000000</td>\n",
              "      <td>1340.000000</td>\n",
              "      <td>1337.000000</td>\n",
              "      <td>1337.000000</td>\n",
              "      <td>1340.000000</td>\n",
              "      <td>1340.000000</td>\n",
              "      <td>1340.000000</td>\n",
              "    </tr>\n",
              "    <tr>\n",
              "      <th>mean</th>\n",
              "      <td>60.417731</td>\n",
              "      <td>17.612126</td>\n",
              "      <td>6.801493</td>\n",
              "      <td>2.629104</td>\n",
              "      <td>5.885299</td>\n",
              "      <td>44.169403</td>\n",
              "      <td>0.247612</td>\n",
              "      <td>0.779179</td>\n",
              "      <td>19.308126</td>\n",
              "      <td>1.297687</td>\n",
              "      <td>1.821940</td>\n",
              "      <td>70.252334</td>\n",
              "      <td>1.00988</td>\n",
              "      <td>2.025746</td>\n",
              "      <td>3.034478</td>\n",
              "      <td>1.553179</td>\n",
              "      <td>0.618399</td>\n",
              "      <td>0.368582</td>\n",
              "      <td>1.193582</td>\n",
              "      <td>0.620149</td>\n",
              "    </tr>\n",
              "    <tr>\n",
              "      <th>std</th>\n",
              "      <td>17.428301</td>\n",
              "      <td>8.307959</td>\n",
              "      <td>4.357545</td>\n",
              "      <td>1.683555</td>\n",
              "      <td>3.593488</td>\n",
              "      <td>6.137679</td>\n",
              "      <td>0.383688</td>\n",
              "      <td>1.061847</td>\n",
              "      <td>16.022916</td>\n",
              "      <td>0.987246</td>\n",
              "      <td>1.322984</td>\n",
              "      <td>10.592506</td>\n",
              "      <td>0.77794</td>\n",
              "      <td>1.360008</td>\n",
              "      <td>2.057774</td>\n",
              "      <td>1.471742</td>\n",
              "      <td>0.410042</td>\n",
              "      <td>0.429049</td>\n",
              "      <td>0.722541</td>\n",
              "      <td>0.485531</td>\n",
              "    </tr>\n",
              "    <tr>\n",
              "      <th>min</th>\n",
              "      <td>11.000000</td>\n",
              "      <td>3.100000</td>\n",
              "      <td>0.700000</td>\n",
              "      <td>0.300000</td>\n",
              "      <td>0.800000</td>\n",
              "      <td>23.800000</td>\n",
              "      <td>0.000000</td>\n",
              "      <td>0.000000</td>\n",
              "      <td>0.000000</td>\n",
              "      <td>0.000000</td>\n",
              "      <td>0.000000</td>\n",
              "      <td>0.000000</td>\n",
              "      <td>0.00000</td>\n",
              "      <td>0.200000</td>\n",
              "      <td>0.300000</td>\n",
              "      <td>0.000000</td>\n",
              "      <td>0.000000</td>\n",
              "      <td>0.000000</td>\n",
              "      <td>0.100000</td>\n",
              "      <td>0.000000</td>\n",
              "    </tr>\n",
              "    <tr>\n",
              "      <th>25%</th>\n",
              "      <td>47.000000</td>\n",
              "      <td>10.800000</td>\n",
              "      <td>3.700000</td>\n",
              "      <td>1.400000</td>\n",
              "      <td>3.300000</td>\n",
              "      <td>40.200000</td>\n",
              "      <td>0.000000</td>\n",
              "      <td>0.000000</td>\n",
              "      <td>0.000000</td>\n",
              "      <td>0.600000</td>\n",
              "      <td>0.900000</td>\n",
              "      <td>64.600000</td>\n",
              "      <td>0.40000</td>\n",
              "      <td>1.000000</td>\n",
              "      <td>1.500000</td>\n",
              "      <td>0.600000</td>\n",
              "      <td>0.300000</td>\n",
              "      <td>0.100000</td>\n",
              "      <td>0.700000</td>\n",
              "      <td>0.000000</td>\n",
              "    </tr>\n",
              "    <tr>\n",
              "      <th>50%</th>\n",
              "      <td>63.000000</td>\n",
              "      <td>16.100000</td>\n",
              "      <td>5.550000</td>\n",
              "      <td>2.100000</td>\n",
              "      <td>4.800000</td>\n",
              "      <td>44.100000</td>\n",
              "      <td>0.100000</td>\n",
              "      <td>0.300000</td>\n",
              "      <td>22.400000</td>\n",
              "      <td>1.000000</td>\n",
              "      <td>1.500000</td>\n",
              "      <td>71.200000</td>\n",
              "      <td>0.80000</td>\n",
              "      <td>1.700000</td>\n",
              "      <td>2.500000</td>\n",
              "      <td>1.100000</td>\n",
              "      <td>0.500000</td>\n",
              "      <td>0.200000</td>\n",
              "      <td>1.000000</td>\n",
              "      <td>1.000000</td>\n",
              "    </tr>\n",
              "    <tr>\n",
              "      <th>75%</th>\n",
              "      <td>77.000000</td>\n",
              "      <td>22.825000</td>\n",
              "      <td>8.800000</td>\n",
              "      <td>3.400000</td>\n",
              "      <td>7.500000</td>\n",
              "      <td>47.900000</td>\n",
              "      <td>0.400000</td>\n",
              "      <td>1.200000</td>\n",
              "      <td>32.500000</td>\n",
              "      <td>1.600000</td>\n",
              "      <td>2.300000</td>\n",
              "      <td>77.600000</td>\n",
              "      <td>1.40000</td>\n",
              "      <td>2.600000</td>\n",
              "      <td>4.000000</td>\n",
              "      <td>2.000000</td>\n",
              "      <td>0.800000</td>\n",
              "      <td>0.500000</td>\n",
              "      <td>1.500000</td>\n",
              "      <td>1.000000</td>\n",
              "    </tr>\n",
              "    <tr>\n",
              "      <th>max</th>\n",
              "      <td>82.000000</td>\n",
              "      <td>40.900000</td>\n",
              "      <td>28.200000</td>\n",
              "      <td>10.200000</td>\n",
              "      <td>19.800000</td>\n",
              "      <td>73.700000</td>\n",
              "      <td>2.300000</td>\n",
              "      <td>6.500000</td>\n",
              "      <td>100.000000</td>\n",
              "      <td>7.700000</td>\n",
              "      <td>10.200000</td>\n",
              "      <td>100.000000</td>\n",
              "      <td>5.30000</td>\n",
              "      <td>9.600000</td>\n",
              "      <td>13.900000</td>\n",
              "      <td>10.600000</td>\n",
              "      <td>2.500000</td>\n",
              "      <td>3.900000</td>\n",
              "      <td>4.400000</td>\n",
              "      <td>1.000000</td>\n",
              "    </tr>\n",
              "  </tbody>\n",
              "</table>\n",
              "</div>\n",
              "      <button class=\"colab-df-convert\" onclick=\"convertToInteractive('df-26c82cea-110e-4569-8c16-18bf0f17dd6a')\"\n",
              "              title=\"Convert this dataframe to an interactive table.\"\n",
              "              style=\"display:none;\">\n",
              "        \n",
              "  <svg xmlns=\"http://www.w3.org/2000/svg\" height=\"24px\"viewBox=\"0 0 24 24\"\n",
              "       width=\"24px\">\n",
              "    <path d=\"M0 0h24v24H0V0z\" fill=\"none\"/>\n",
              "    <path d=\"M18.56 5.44l.94 2.06.94-2.06 2.06-.94-2.06-.94-.94-2.06-.94 2.06-2.06.94zm-11 1L8.5 8.5l.94-2.06 2.06-.94-2.06-.94L8.5 2.5l-.94 2.06-2.06.94zm10 10l.94 2.06.94-2.06 2.06-.94-2.06-.94-.94-2.06-.94 2.06-2.06.94z\"/><path d=\"M17.41 7.96l-1.37-1.37c-.4-.4-.92-.59-1.43-.59-.52 0-1.04.2-1.43.59L10.3 9.45l-7.72 7.72c-.78.78-.78 2.05 0 2.83L4 21.41c.39.39.9.59 1.41.59.51 0 1.02-.2 1.41-.59l7.78-7.78 2.81-2.81c.8-.78.8-2.07 0-2.86zM5.41 20L4 18.59l7.72-7.72 1.47 1.35L5.41 20z\"/>\n",
              "  </svg>\n",
              "      </button>\n",
              "      \n",
              "  <style>\n",
              "    .colab-df-container {\n",
              "      display:flex;\n",
              "      flex-wrap:wrap;\n",
              "      gap: 12px;\n",
              "    }\n",
              "\n",
              "    .colab-df-convert {\n",
              "      background-color: #E8F0FE;\n",
              "      border: none;\n",
              "      border-radius: 50%;\n",
              "      cursor: pointer;\n",
              "      display: none;\n",
              "      fill: #1967D2;\n",
              "      height: 32px;\n",
              "      padding: 0 0 0 0;\n",
              "      width: 32px;\n",
              "    }\n",
              "\n",
              "    .colab-df-convert:hover {\n",
              "      background-color: #E2EBFA;\n",
              "      box-shadow: 0px 1px 2px rgba(60, 64, 67, 0.3), 0px 1px 3px 1px rgba(60, 64, 67, 0.15);\n",
              "      fill: #174EA6;\n",
              "    }\n",
              "\n",
              "    [theme=dark] .colab-df-convert {\n",
              "      background-color: #3B4455;\n",
              "      fill: #D2E3FC;\n",
              "    }\n",
              "\n",
              "    [theme=dark] .colab-df-convert:hover {\n",
              "      background-color: #434B5C;\n",
              "      box-shadow: 0px 1px 3px 1px rgba(0, 0, 0, 0.15);\n",
              "      filter: drop-shadow(0px 1px 2px rgba(0, 0, 0, 0.3));\n",
              "      fill: #FFFFFF;\n",
              "    }\n",
              "  </style>\n",
              "\n",
              "      <script>\n",
              "        const buttonEl =\n",
              "          document.querySelector('#df-26c82cea-110e-4569-8c16-18bf0f17dd6a button.colab-df-convert');\n",
              "        buttonEl.style.display =\n",
              "          google.colab.kernel.accessAllowed ? 'block' : 'none';\n",
              "\n",
              "        async function convertToInteractive(key) {\n",
              "          const element = document.querySelector('#df-26c82cea-110e-4569-8c16-18bf0f17dd6a');\n",
              "          const dataTable =\n",
              "            await google.colab.kernel.invokeFunction('convertToInteractive',\n",
              "                                                     [key], {});\n",
              "          if (!dataTable) return;\n",
              "\n",
              "          const docLinkHtml = 'Like what you see? Visit the ' +\n",
              "            '<a target=\"_blank\" href=https://colab.research.google.com/notebooks/data_table.ipynb>data table notebook</a>'\n",
              "            + ' to learn more about interactive tables.';\n",
              "          element.innerHTML = '';\n",
              "          dataTable['output_type'] = 'display_data';\n",
              "          await google.colab.output.renderOutput(dataTable, element);\n",
              "          const docLink = document.createElement('div');\n",
              "          docLink.innerHTML = docLinkHtml;\n",
              "          element.appendChild(docLink);\n",
              "        }\n",
              "      </script>\n",
              "    </div>\n",
              "  </div>\n",
              "  "
            ],
            "text/plain": [
              "                GP          MIN  ...          TOV  TARGET_5Yrs\n",
              "count  1331.000000  1336.000000  ...  1340.000000  1340.000000\n",
              "mean     60.417731    17.612126  ...     1.193582     0.620149\n",
              "std      17.428301     8.307959  ...     0.722541     0.485531\n",
              "min      11.000000     3.100000  ...     0.100000     0.000000\n",
              "25%      47.000000    10.800000  ...     0.700000     0.000000\n",
              "50%      63.000000    16.100000  ...     1.000000     1.000000\n",
              "75%      77.000000    22.825000  ...     1.500000     1.000000\n",
              "max      82.000000    40.900000  ...     4.400000     1.000000\n",
              "\n",
              "[8 rows x 20 columns]"
            ]
          },
          "metadata": {},
          "execution_count": 7
        }
      ],
      "source": [
        "data.describe()"
      ]
    },
    {
      "cell_type": "markdown",
      "metadata": {
        "id": "oyUkhP1X3f7E"
      },
      "source": [
        "**Observation:**\n",
        "1. Avarage game played is 60.4 with a standard deviation of 17.4, i.e majority of the games playes in  given dataset lies in range 43 to 77.8.\n",
        "2. Minimum games playes in the given dataset is 11  and maximum games played is 82."
      ]
    },
    {
      "cell_type": "code",
      "execution_count": null,
      "metadata": {
        "colab": {
          "base_uri": "https://localhost:8080/"
        },
        "id": "kjPVS8jG3f7F",
        "outputId": "688350f4-a303-4d64-c614-f726f4cf731b"
      },
      "outputs": [
        {
          "output_type": "stream",
          "name": "stdout",
          "text": [
            "<class 'pandas.core.frame.DataFrame'>\n",
            "RangeIndex: 1340 entries, 0 to 1339\n",
            "Data columns (total 21 columns):\n",
            " #   Column       Non-Null Count  Dtype  \n",
            "---  ------       --------------  -----  \n",
            " 0   Name         1340 non-null   object \n",
            " 1   GP           1331 non-null   float64\n",
            " 2   MIN          1336 non-null   float64\n",
            " 3   PTS          1340 non-null   float64\n",
            " 4   FGM          1340 non-null   float64\n",
            " 5   FGA          1340 non-null   float64\n",
            " 6   FG%          1340 non-null   float64\n",
            " 7   3P Made      1340 non-null   float64\n",
            " 8   3PA          1340 non-null   float64\n",
            " 9   3P%          1329 non-null   float64\n",
            " 10  FTM          1340 non-null   float64\n",
            " 11  FTA          1340 non-null   float64\n",
            " 12  FT%          1328 non-null   float64\n",
            " 13  OREB         1336 non-null   float64\n",
            " 14  DREB         1340 non-null   float64\n",
            " 15  REB          1340 non-null   float64\n",
            " 16  AST          1337 non-null   float64\n",
            " 17  STL          1337 non-null   float64\n",
            " 18  BLK          1340 non-null   float64\n",
            " 19  TOV          1340 non-null   float64\n",
            " 20  TARGET_5Yrs  1340 non-null   int64  \n",
            "dtypes: float64(19), int64(1), object(1)\n",
            "memory usage: 220.0+ KB\n"
          ]
        }
      ],
      "source": [
        "data.info()"
      ]
    },
    {
      "cell_type": "markdown",
      "metadata": {
        "id": "QC7FKo_a3f7I"
      },
      "source": [
        "The dataset provides the NBA players' career longevity information. It includes 1340 records and 21 fields.\n",
        "\n",
        "**Observation:**\n",
        "\n",
        "-The given dataset has non-null feature columns of object, int64 and float64 datatypes."
      ]
    },
    {
      "cell_type": "markdown",
      "metadata": {
        "id": "3VTmvYB53f7J"
      },
      "source": [
        "### Printing the class label count  & Visualization"
      ]
    },
    {
      "cell_type": "markdown",
      "metadata": {
        "id": "jDuBK4xG3f7K"
      },
      "source": [
        "#### TARGET_5Yrs — Career length is greater than 5 years ? (binary: “1”, means “Yes”, “0” means “No”)"
      ]
    },
    {
      "cell_type": "code",
      "execution_count": null,
      "metadata": {
        "colab": {
          "base_uri": "https://localhost:8080/"
        },
        "id": "wKWSl34d3f7L",
        "outputId": "9435d948-2d2d-49c0-eecd-18de68cad1f7"
      },
      "outputs": [
        {
          "output_type": "execute_result",
          "data": {
            "text/plain": [
              "1    831\n",
              "0    509\n",
              "Name: TARGET_5Yrs, dtype: int64"
            ]
          },
          "metadata": {},
          "execution_count": 9
        }
      ],
      "source": [
        "data[\"TARGET_5Yrs\"].value_counts()"
      ]
    },
    {
      "cell_type": "code",
      "execution_count": null,
      "metadata": {
        "scrolled": false,
        "colab": {
          "base_uri": "https://localhost:8080/",
          "height": 262
        },
        "id": "HUm_rvkx3f7M",
        "outputId": "e29b5e79-234a-4f59-e99a-3c0b09b50ee6"
      },
      "outputs": [
        {
          "output_type": "display_data",
          "data": {
            "image/png": "[encoded data removed]",
            "text/plain": [
              "<Figure size 432x288 with 1 Axes>"
            ]
          },
          "metadata": {
            "needs_background": "light"
          }
        }
      ],
      "source": [
        "data[\"TARGET_5Yrs\"].value_counts().plot(kind=\"bar\",color=[\"Orange\", \"lightBlue\"])\n",
        "plt.show()"
      ]
    },
    {
      "cell_type": "code",
      "execution_count": null,
      "metadata": {
        "colab": {
          "base_uri": "https://localhost:8080/"
        },
        "id": "CygO_Q7R3f7O",
        "outputId": "529df652-87a1-4e00-9f64-f965f2473113"
      },
      "outputs": [
        {
          "output_type": "stream",
          "name": "stdout",
          "text": [
            "percentage of nba rookies career less than 5 years 37.985074626865675\n",
            "percentage of nba rookies career greater than 5 years 62.01492537313433\n"
          ]
        }
      ],
      "source": [
        "count_no_sub = len(data[data['TARGET_5Yrs']==0])\n",
        "count_sub = len(data[data['TARGET_5Yrs']==1])\n",
        "pct_of_no_sub = count_no_sub/(count_no_sub+count_sub)\n",
        "print(\"percentage of nba rookies career less than 5 years\", pct_of_no_sub*100)\n",
        "pct_of_sub = count_sub/(count_no_sub+count_sub)\n",
        "print(\"percentage of nba rookies career greater than 5 years\", pct_of_sub*100)"
      ]
    },
    {
      "cell_type": "markdown",
      "metadata": {
        "id": "JMs2ll6Q3f7P"
      },
      "source": [
        "Our classes are imbalanced, and the ratio of less than 5 years to more than 5 years instances is 37:62. Before we go ahead to balance the classes, let’s do some more exploration."
      ]
    },
    {
      "cell_type": "code",
      "execution_count": null,
      "metadata": {
        "scrolled": true,
        "colab": {
          "base_uri": "https://localhost:8080/",
          "height": 207
        },
        "id": "iNfZuqLp3f7R",
        "outputId": "785c0fca-d318-499f-cd3d-e2a142bf0b2a"
      },
      "outputs": [
        {
          "output_type": "execute_result",
          "data": {
            "text/html": [
              "\n",
              "  <div id=\"df-84fa41cf-d710-4da2-8845-5d13ae244a0c\">\n",
              "    <div class=\"colab-df-container\">\n",
              "      <div>\n",
              "<style scoped>\n",
              "    .dataframe tbody tr th:only-of-type {\n",
              "        vertical-align: middle;\n",
              "    }\n",
              "\n",
              "    .dataframe tbody tr th {\n",
              "        vertical-align: top;\n",
              "    }\n",
              "\n",
              "    .dataframe thead th {\n",
              "        text-align: right;\n",
              "    }\n",
              "</style>\n",
              "<table border=\"1\" class=\"dataframe\">\n",
              "  <thead>\n",
              "    <tr style=\"text-align: right;\">\n",
              "      <th></th>\n",
              "      <th>GP</th>\n",
              "      <th>MIN</th>\n",
              "      <th>PTS</th>\n",
              "      <th>FGM</th>\n",
              "      <th>FGA</th>\n",
              "      <th>FG%</th>\n",
              "      <th>3P Made</th>\n",
              "      <th>3PA</th>\n",
              "      <th>3P%</th>\n",
              "      <th>FTM</th>\n",
              "      <th>FTA</th>\n",
              "      <th>FT%</th>\n",
              "      <th>OREB</th>\n",
              "      <th>DREB</th>\n",
              "      <th>REB</th>\n",
              "      <th>AST</th>\n",
              "      <th>STL</th>\n",
              "      <th>BLK</th>\n",
              "      <th>TOV</th>\n",
              "    </tr>\n",
              "    <tr>\n",
              "      <th>TARGET_5Yrs</th>\n",
              "      <th></th>\n",
              "      <th></th>\n",
              "      <th></th>\n",
              "      <th></th>\n",
              "      <th></th>\n",
              "      <th></th>\n",
              "      <th></th>\n",
              "      <th></th>\n",
              "      <th></th>\n",
              "      <th></th>\n",
              "      <th></th>\n",
              "      <th></th>\n",
              "      <th></th>\n",
              "      <th></th>\n",
              "      <th></th>\n",
              "      <th></th>\n",
              "      <th></th>\n",
              "      <th></th>\n",
              "      <th></th>\n",
              "    </tr>\n",
              "  </thead>\n",
              "  <tbody>\n",
              "    <tr>\n",
              "      <th>0</th>\n",
              "      <td>51.675889</td>\n",
              "      <td>14.252259</td>\n",
              "      <td>5.042829</td>\n",
              "      <td>1.946169</td>\n",
              "      <td>4.542043</td>\n",
              "      <td>42.388802</td>\n",
              "      <td>0.229666</td>\n",
              "      <td>0.754617</td>\n",
              "      <td>19.378131</td>\n",
              "      <td>0.923379</td>\n",
              "      <td>1.321611</td>\n",
              "      <td>68.754762</td>\n",
              "      <td>0.717228</td>\n",
              "      <td>1.531238</td>\n",
              "      <td>2.247544</td>\n",
              "      <td>1.224655</td>\n",
              "      <td>0.498232</td>\n",
              "      <td>0.253438</td>\n",
              "      <td>0.942240</td>\n",
              "    </tr>\n",
              "    <tr>\n",
              "      <th>1</th>\n",
              "      <td>65.779394</td>\n",
              "      <td>19.680048</td>\n",
              "      <td>7.878700</td>\n",
              "      <td>3.047413</td>\n",
              "      <td>6.708063</td>\n",
              "      <td>45.260048</td>\n",
              "      <td>0.258604</td>\n",
              "      <td>0.794224</td>\n",
              "      <td>19.265496</td>\n",
              "      <td>1.526955</td>\n",
              "      <td>2.128400</td>\n",
              "      <td>71.168325</td>\n",
              "      <td>1.187726</td>\n",
              "      <td>2.328640</td>\n",
              "      <td>3.516486</td>\n",
              "      <td>1.753855</td>\n",
              "      <td>0.692271</td>\n",
              "      <td>0.439110</td>\n",
              "      <td>1.347533</td>\n",
              "    </tr>\n",
              "  </tbody>\n",
              "</table>\n",
              "</div>\n",
              "      <button class=\"colab-df-convert\" onclick=\"convertToInteractive('df-84fa41cf-d710-4da2-8845-5d13ae244a0c')\"\n",
              "              title=\"Convert this dataframe to an interactive table.\"\n",
              "              style=\"display:none;\">\n",
              "        \n",
              "  <svg xmlns=\"http://www.w3.org/2000/svg\" height=\"24px\"viewBox=\"0 0 24 24\"\n",
              "       width=\"24px\">\n",
              "    <path d=\"M0 0h24v24H0V0z\" fill=\"none\"/>\n",
              "    <path d=\"M18.56 5.44l.94 2.06.94-2.06 2.06-.94-2.06-.94-.94-2.06-.94 2.06-2.06.94zm-11 1L8.5 8.5l.94-2.06 2.06-.94-2.06-.94L8.5 2.5l-.94 2.06-2.06.94zm10 10l.94 2.06.94-2.06 2.06-.94-2.06-.94-.94-2.06-.94 2.06-2.06.94z\"/><path d=\"M17.41 7.96l-1.37-1.37c-.4-.4-.92-.59-1.43-.59-.52 0-1.04.2-1.43.59L10.3 9.45l-7.72 7.72c-.78.78-.78 2.05 0 2.83L4 21.41c.39.39.9.59 1.41.59.51 0 1.02-.2 1.41-.59l7.78-7.78 2.81-2.81c.8-.78.8-2.07 0-2.86zM5.41 20L4 18.59l7.72-7.72 1.47 1.35L5.41 20z\"/>\n",
              "  </svg>\n",
              "      </button>\n",
              "      \n",
              "  <style>\n",
              "    .colab-df-container {\n",
              "      display:flex;\n",
              "      flex-wrap:wrap;\n",
              "      gap: 12px;\n",
              "    }\n",
              "\n",
              "    .colab-df-convert {\n",
              "      background-color: #E8F0FE;\n",
              "      border: none;\n",
              "      border-radius: 50%;\n",
              "      cursor: pointer;\n",
              "      display: none;\n",
              "      fill: #1967D2;\n",
              "      height: 32px;\n",
              "      padding: 0 0 0 0;\n",
              "      width: 32px;\n",
              "    }\n",
              "\n",
              "    .colab-df-convert:hover {\n",
              "      background-color: #E2EBFA;\n",
              "      box-shadow: 0px 1px 2px rgba(60, 64, 67, 0.3), 0px 1px 3px 1px rgba(60, 64, 67, 0.15);\n",
              "      fill: #174EA6;\n",
              "    }\n",
              "\n",
              "    [theme=dark] .colab-df-convert {\n",
              "      background-color: #3B4455;\n",
              "      fill: #D2E3FC;\n",
              "    }\n",
              "\n",
              "    [theme=dark] .colab-df-convert:hover {\n",
              "      background-color: #434B5C;\n",
              "      box-shadow: 0px 1px 3px 1px rgba(0, 0, 0, 0.15);\n",
              "      filter: drop-shadow(0px 1px 2px rgba(0, 0, 0, 0.3));\n",
              "      fill: #FFFFFF;\n",
              "    }\n",
              "  </style>\n",
              "\n",
              "      <script>\n",
              "        const buttonEl =\n",
              "          document.querySelector('#df-84fa41cf-d710-4da2-8845-5d13ae244a0c button.colab-df-convert');\n",
              "        buttonEl.style.display =\n",
              "          google.colab.kernel.accessAllowed ? 'block' : 'none';\n",
              "\n",
              "        async function convertToInteractive(key) {\n",
              "          const element = document.querySelector('#df-84fa41cf-d710-4da2-8845-5d13ae244a0c');\n",
              "          const dataTable =\n",
              "            await google.colab.kernel.invokeFunction('convertToInteractive',\n",
              "                                                     [key], {});\n",
              "          if (!dataTable) return;\n",
              "\n",
              "          const docLinkHtml = 'Like what you see? Visit the ' +\n",
              "            '<a target=\"_blank\" href=https://colab.research.google.com/notebooks/data_table.ipynb>data table notebook</a>'\n",
              "            + ' to learn more about interactive tables.';\n",
              "          element.innerHTML = '';\n",
              "          dataTable['output_type'] = 'display_data';\n",
              "          await google.colab.output.renderOutput(dataTable, element);\n",
              "          const docLink = document.createElement('div');\n",
              "          docLink.innerHTML = docLinkHtml;\n",
              "          element.appendChild(docLink);\n",
              "        }\n",
              "      </script>\n",
              "    </div>\n",
              "  </div>\n",
              "  "
            ],
            "text/plain": [
              "                    GP        MIN       PTS  ...       STL       BLK       TOV\n",
              "TARGET_5Yrs                                  ...                              \n",
              "0            51.675889  14.252259  5.042829  ...  0.498232  0.253438  0.942240\n",
              "1            65.779394  19.680048  7.878700  ...  0.692271  0.439110  1.347533\n",
              "\n",
              "[2 rows x 19 columns]"
            ]
          },
          "metadata": {},
          "execution_count": 12
        }
      ],
      "source": [
        "data.groupby('TARGET_5Yrs').mean()"
      ]
    },
    {
      "cell_type": "markdown",
      "metadata": {
        "id": "PSzVFFcf3f7S"
      },
      "source": [
        "#### Obesrvations:\n",
        "\n",
        "-The games playes by nba rookies whose carrer is less than 5 years is less than the nba rookies whose carrer length is more than 5 years"
      ]
    },
    {
      "cell_type": "code",
      "execution_count": null,
      "metadata": {
        "id": "arC4Lpjh3f7T"
      },
      "outputs": [],
      "source": [
        "#list of numerical columns\n",
        "Target=data['TARGET_5Yrs']\n",
        "num_cols=['GP', 'MIN', 'PTS', 'FGM', 'FGA', 'FG%', '3P Made','3PA','3P%', 'FTM', 'FTA', 'FT%', 'OREB', 'DREB', \n",
        "          'REB', 'AST','STL', 'BLK','TOV']"
      ]
    },
    {
      "cell_type": "code",
      "execution_count": null,
      "metadata": {
        "scrolled": false,
        "colab": {
          "base_uri": "https://localhost:8080/",
          "height": 1000
        },
        "id": "sG7oFNmj3f7U",
        "outputId": "b025d64c-5a49-474b-83f0-e7fbf69edb99"
      },
      "outputs": [
        {
          "output_type": "display_data",
          "data": {
            "image/png": "[encoded data removed]",
            "text/plain": [
              "<Figure size 1080x1080 with 19 Axes>"
            ]
          },
          "metadata": {
            "needs_background": "light"
          }
        }
      ],
      "source": [
        "#Visualizing distribution of all features\n",
        "def draw_histograms(dataframe, features, rows, cols):\n",
        "    fig=plt.figure(figsize=(15,15))\n",
        "    for i, feature in enumerate(features):\n",
        "        ax=fig.add_subplot(rows,cols,i+1)\n",
        "        sns.histplot(dataframe[feature],ax=ax)\n",
        "        ax.set_title(feature+\" Distribution\",color='DarkRed')\n",
        "        \n",
        "    fig.tight_layout()  \n",
        "    plt.show()\n",
        "draw_histograms(data,num_cols,5,4)"
      ]
    },
    {
      "cell_type": "markdown",
      "metadata": {
        "id": "J8RbJJ5o3f7V"
      },
      "source": [
        "#### Based on the above histogram we can see the data is highly skewed. We will be doing further visualization of the dataset."
      ]
    },
    {
      "cell_type": "code",
      "execution_count": null,
      "metadata": {
        "colab": {
          "base_uri": "https://localhost:8080/",
          "height": 1000
        },
        "id": "gxTRNQ9X3f7W",
        "outputId": "a98f0d67-2ab6-465d-ee13-ed76cf317bcf"
      },
      "outputs": [
        {
          "output_type": "display_data",
          "data": {
            "image/png": "[encoded data removed]",
            "text/plain": [
              "<Figure size 1080x1080 with 19 Axes>"
            ]
          },
          "metadata": {
            "needs_background": "light"
          }
        }
      ],
      "source": [
        "#Visualizing box plot of features\n",
        "def draw_box(dataframe, features, rows, cols):\n",
        "    fig=plt.figure(figsize=(15,15))\n",
        "    for i, feature in enumerate(features):\n",
        "        ax=fig.add_subplot(rows,cols,i+1)\n",
        "        sns.boxplot(x=feature,data=data)\n",
        "        ax.set_title(feature+\" Box Plot\",color='DarkRed')\n",
        "        \n",
        "    fig.tight_layout()  \n",
        "    plt.show()\n",
        "draw_box(data,num_cols,5,4)"
      ]
    },
    {
      "cell_type": "markdown",
      "metadata": {
        "id": "WLThUkqF3f7Y"
      },
      "source": [
        "From the above visualizations it is clear that we have few outliers present in the data. The histograms shows there are skewness present in the features which needs to be removed."
      ]
    },
    {
      "cell_type": "markdown",
      "metadata": {
        "id": "xHIQbTG63f7Z"
      },
      "source": [
        "Apart from games played, all the other attributes are having outliers."
      ]
    },
    {
      "cell_type": "markdown",
      "metadata": {
        "id": "FKOfBICq3f7a"
      },
      "source": [
        "### Data Pre-Processing and Cleaning"
      ]
    },
    {
      "cell_type": "markdown",
      "metadata": {
        "id": "U1C9LGSp3f7a"
      },
      "source": [
        "We will pre-process the data and prepare it for training the model. \n",
        "We will start the preprocessing by cleaning our data. \n",
        "For this we will first check for null values in the data."
      ]
    },
    {
      "cell_type": "markdown",
      "metadata": {
        "id": "ar5kQDSu3f7b"
      },
      "source": [
        "#### Checking NULL values"
      ]
    },
    {
      "cell_type": "code",
      "execution_count": null,
      "metadata": {
        "scrolled": false,
        "colab": {
          "base_uri": "https://localhost:8080/"
        },
        "id": "n7iQTeQ13f7c",
        "outputId": "07621318-a0d6-412f-992b-b9c09def8999"
      },
      "outputs": [
        {
          "output_type": "execute_result",
          "data": {
            "text/plain": [
              "Name            0\n",
              "GP              9\n",
              "MIN             4\n",
              "PTS             0\n",
              "FGM             0\n",
              "FGA             0\n",
              "FG%             0\n",
              "3P Made         0\n",
              "3PA             0\n",
              "3P%            11\n",
              "FTM             0\n",
              "FTA             0\n",
              "FT%            12\n",
              "OREB            4\n",
              "DREB            0\n",
              "REB             0\n",
              "AST             3\n",
              "STL             3\n",
              "BLK             0\n",
              "TOV             0\n",
              "TARGET_5Yrs     0\n",
              "dtype: int64"
            ]
          },
          "metadata": {},
          "execution_count": 16
        }
      ],
      "source": [
        "data.isnull().sum()"
      ]
    },
    {
      "cell_type": "markdown",
      "metadata": {
        "id": "dQ7fnTU23f7d"
      },
      "source": [
        "There are null values present in GP, MIN, 3P%, FT%, OREB, AST, STL. Among them Games Playes is distinct value so we will replace the missing values of this column with median. Rest of the missing values we will replace with mean values."
      ]
    },
    {
      "cell_type": "code",
      "execution_count": null,
      "metadata": {
        "id": "mf4i8Gio3f7d"
      },
      "outputs": [],
      "source": [
        "data['MIN'] = data['MIN'].fillna(data['MIN'].mean())\n",
        "data['3P%'] = data['3P%'].fillna(data['3P%'].mean())\n",
        "data['FT%'] = data['FT%'].fillna(data['FT%'].mean())\n",
        "data['OREB'] = data['OREB'].fillna(data['OREB'].mean())\n",
        "data['AST'] = data['AST'].fillna(data['AST'].mean())\n",
        "data['STL'] = data['STL'].fillna(data['STL'].mean())"
      ]
    },
    {
      "cell_type": "code",
      "execution_count": null,
      "metadata": {
        "id": "hH1evmX93f7e"
      },
      "outputs": [],
      "source": [
        "data['GP'] = data['GP'].fillna(data['GP'].median())"
      ]
    },
    {
      "cell_type": "code",
      "execution_count": null,
      "metadata": {
        "colab": {
          "base_uri": "https://localhost:8080/"
        },
        "id": "TG7A8JnI3f7f",
        "outputId": "c89359b5-482e-4fba-c1ca-a2efbedf313b"
      },
      "outputs": [
        {
          "output_type": "execute_result",
          "data": {
            "text/plain": [
              "Name           0\n",
              "GP             0\n",
              "MIN            0\n",
              "PTS            0\n",
              "FGM            0\n",
              "FGA            0\n",
              "FG%            0\n",
              "3P Made        0\n",
              "3PA            0\n",
              "3P%            0\n",
              "FTM            0\n",
              "FTA            0\n",
              "FT%            0\n",
              "OREB           0\n",
              "DREB           0\n",
              "REB            0\n",
              "AST            0\n",
              "STL            0\n",
              "BLK            0\n",
              "TOV            0\n",
              "TARGET_5Yrs    0\n",
              "dtype: int64"
            ]
          },
          "metadata": {},
          "execution_count": 19
        }
      ],
      "source": [
        "#Varifying if there is any more null values left\n",
        "data.isnull().sum()"
      ]
    },
    {
      "cell_type": "markdown",
      "metadata": {
        "id": "EEF5wVpU3f7g"
      },
      "source": [
        "### Feature Engineering "
      ]
    },
    {
      "cell_type": "markdown",
      "metadata": {
        "id": "1qLor4qT3f7h"
      },
      "source": [
        "We will drop the unneccessary columns from the dataset and separate the target feature from the data"
      ]
    },
    {
      "cell_type": "code",
      "execution_count": null,
      "metadata": {
        "id": "bgAzjwqa3f7i"
      },
      "outputs": [],
      "source": [
        "data.drop('Name',axis = 1,inplace = True)\n",
        "data.drop('TARGET_5Yrs',axis = 1,inplace = True)\n"
      ]
    },
    {
      "cell_type": "code",
      "execution_count": null,
      "metadata": {
        "scrolled": true,
        "colab": {
          "base_uri": "https://localhost:8080/",
          "height": 206
        },
        "id": "JHUPTCoF3f7i",
        "outputId": "ee609465-0c13-419e-d217-c55ed9eac4d9"
      },
      "outputs": [
        {
          "output_type": "execute_result",
          "data": {
            "text/html": [
              "\n",
              "  <div id=\"df-c0690a69-5385-4e42-a6e5-2af5b4dcb78a\">\n",
              "    <div class=\"colab-df-container\">\n",
              "      <div>\n",
              "<style scoped>\n",
              "    .dataframe tbody tr th:only-of-type {\n",
              "        vertical-align: middle;\n",
              "    }\n",
              "\n",
              "    .dataframe tbody tr th {\n",
              "        vertical-align: top;\n",
              "    }\n",
              "\n",
              "    .dataframe thead th {\n",
              "        text-align: right;\n",
              "    }\n",
              "</style>\n",
              "<table border=\"1\" class=\"dataframe\">\n",
              "  <thead>\n",
              "    <tr style=\"text-align: right;\">\n",
              "      <th></th>\n",
              "      <th>GP</th>\n",
              "      <th>MIN</th>\n",
              "      <th>PTS</th>\n",
              "      <th>FGM</th>\n",
              "      <th>FGA</th>\n",
              "      <th>FG%</th>\n",
              "      <th>3P Made</th>\n",
              "      <th>3PA</th>\n",
              "      <th>3P%</th>\n",
              "      <th>FTM</th>\n",
              "      <th>FTA</th>\n",
              "      <th>FT%</th>\n",
              "      <th>OREB</th>\n",
              "      <th>DREB</th>\n",
              "      <th>REB</th>\n",
              "      <th>AST</th>\n",
              "      <th>STL</th>\n",
              "      <th>BLK</th>\n",
              "      <th>TOV</th>\n",
              "    </tr>\n",
              "  </thead>\n",
              "  <tbody>\n",
              "    <tr>\n",
              "      <th>0</th>\n",
              "      <td>63.0</td>\n",
              "      <td>27.4</td>\n",
              "      <td>7.4</td>\n",
              "      <td>2.6</td>\n",
              "      <td>7.6</td>\n",
              "      <td>34.7</td>\n",
              "      <td>0.5</td>\n",
              "      <td>2.1</td>\n",
              "      <td>25.0</td>\n",
              "      <td>1.6</td>\n",
              "      <td>2.3</td>\n",
              "      <td>69.9</td>\n",
              "      <td>0.7</td>\n",
              "      <td>3.4</td>\n",
              "      <td>4.1</td>\n",
              "      <td>1.9</td>\n",
              "      <td>0.4</td>\n",
              "      <td>0.4</td>\n",
              "      <td>1.3</td>\n",
              "    </tr>\n",
              "    <tr>\n",
              "      <th>1</th>\n",
              "      <td>35.0</td>\n",
              "      <td>26.9</td>\n",
              "      <td>7.2</td>\n",
              "      <td>2.0</td>\n",
              "      <td>6.7</td>\n",
              "      <td>29.6</td>\n",
              "      <td>0.7</td>\n",
              "      <td>2.8</td>\n",
              "      <td>23.5</td>\n",
              "      <td>2.6</td>\n",
              "      <td>3.4</td>\n",
              "      <td>76.5</td>\n",
              "      <td>0.5</td>\n",
              "      <td>2.0</td>\n",
              "      <td>2.4</td>\n",
              "      <td>3.7</td>\n",
              "      <td>1.1</td>\n",
              "      <td>0.5</td>\n",
              "      <td>1.6</td>\n",
              "    </tr>\n",
              "    <tr>\n",
              "      <th>2</th>\n",
              "      <td>74.0</td>\n",
              "      <td>15.3</td>\n",
              "      <td>5.2</td>\n",
              "      <td>2.0</td>\n",
              "      <td>4.7</td>\n",
              "      <td>42.2</td>\n",
              "      <td>0.4</td>\n",
              "      <td>1.7</td>\n",
              "      <td>24.4</td>\n",
              "      <td>0.9</td>\n",
              "      <td>1.3</td>\n",
              "      <td>67.0</td>\n",
              "      <td>0.5</td>\n",
              "      <td>1.7</td>\n",
              "      <td>2.2</td>\n",
              "      <td>1.0</td>\n",
              "      <td>0.5</td>\n",
              "      <td>0.3</td>\n",
              "      <td>1.0</td>\n",
              "    </tr>\n",
              "    <tr>\n",
              "      <th>3</th>\n",
              "      <td>58.0</td>\n",
              "      <td>11.6</td>\n",
              "      <td>5.7</td>\n",
              "      <td>2.3</td>\n",
              "      <td>5.5</td>\n",
              "      <td>42.6</td>\n",
              "      <td>0.1</td>\n",
              "      <td>0.5</td>\n",
              "      <td>22.6</td>\n",
              "      <td>0.9</td>\n",
              "      <td>1.3</td>\n",
              "      <td>68.9</td>\n",
              "      <td>1.0</td>\n",
              "      <td>0.9</td>\n",
              "      <td>1.9</td>\n",
              "      <td>0.8</td>\n",
              "      <td>0.6</td>\n",
              "      <td>0.1</td>\n",
              "      <td>1.0</td>\n",
              "    </tr>\n",
              "    <tr>\n",
              "      <th>4</th>\n",
              "      <td>48.0</td>\n",
              "      <td>11.5</td>\n",
              "      <td>4.5</td>\n",
              "      <td>1.6</td>\n",
              "      <td>3.0</td>\n",
              "      <td>52.4</td>\n",
              "      <td>0.0</td>\n",
              "      <td>0.1</td>\n",
              "      <td>0.0</td>\n",
              "      <td>1.3</td>\n",
              "      <td>1.9</td>\n",
              "      <td>67.4</td>\n",
              "      <td>1.0</td>\n",
              "      <td>1.5</td>\n",
              "      <td>2.5</td>\n",
              "      <td>0.3</td>\n",
              "      <td>0.3</td>\n",
              "      <td>0.4</td>\n",
              "      <td>0.8</td>\n",
              "    </tr>\n",
              "  </tbody>\n",
              "</table>\n",
              "</div>\n",
              "      <button class=\"colab-df-convert\" onclick=\"convertToInteractive('df-c0690a69-5385-4e42-a6e5-2af5b4dcb78a')\"\n",
              "              title=\"Convert this dataframe to an interactive table.\"\n",
              "              style=\"display:none;\">\n",
              "        \n",
              "  <svg xmlns=\"http://www.w3.org/2000/svg\" height=\"24px\"viewBox=\"0 0 24 24\"\n",
              "       width=\"24px\">\n",
              "    <path d=\"M0 0h24v24H0V0z\" fill=\"none\"/>\n",
              "    <path d=\"M18.56 5.44l.94 2.06.94-2.06 2.06-.94-2.06-.94-.94-2.06-.94 2.06-2.06.94zm-11 1L8.5 8.5l.94-2.06 2.06-.94-2.06-.94L8.5 2.5l-.94 2.06-2.06.94zm10 10l.94 2.06.94-2.06 2.06-.94-2.06-.94-.94-2.06-.94 2.06-2.06.94z\"/><path d=\"M17.41 7.96l-1.37-1.37c-.4-.4-.92-.59-1.43-.59-.52 0-1.04.2-1.43.59L10.3 9.45l-7.72 7.72c-.78.78-.78 2.05 0 2.83L4 21.41c.39.39.9.59 1.41.59.51 0 1.02-.2 1.41-.59l7.78-7.78 2.81-2.81c.8-.78.8-2.07 0-2.86zM5.41 20L4 18.59l7.72-7.72 1.47 1.35L5.41 20z\"/>\n",
              "  </svg>\n",
              "      </button>\n",
              "      \n",
              "  <style>\n",
              "    .colab-df-container {\n",
              "      display:flex;\n",
              "      flex-wrap:wrap;\n",
              "      gap: 12px;\n",
              "    }\n",
              "\n",
              "    .colab-df-convert {\n",
              "      background-color: #E8F0FE;\n",
              "      border: none;\n",
              "      border-radius: 50%;\n",
              "      cursor: pointer;\n",
              "      display: none;\n",
              "      fill: #1967D2;\n",
              "      height: 32px;\n",
              "      padding: 0 0 0 0;\n",
              "      width: 32px;\n",
              "    }\n",
              "\n",
              "    .colab-df-convert:hover {\n",
              "      background-color: #E2EBFA;\n",
              "      box-shadow: 0px 1px 2px rgba(60, 64, 67, 0.3), 0px 1px 3px 1px rgba(60, 64, 67, 0.15);\n",
              "      fill: #174EA6;\n",
              "    }\n",
              "\n",
              "    [theme=dark] .colab-df-convert {\n",
              "      background-color: #3B4455;\n",
              "      fill: #D2E3FC;\n",
              "    }\n",
              "\n",
              "    [theme=dark] .colab-df-convert:hover {\n",
              "      background-color: #434B5C;\n",
              "      box-shadow: 0px 1px 3px 1px rgba(0, 0, 0, 0.15);\n",
              "      filter: drop-shadow(0px 1px 2px rgba(0, 0, 0, 0.3));\n",
              "      fill: #FFFFFF;\n",
              "    }\n",
              "  </style>\n",
              "\n",
              "      <script>\n",
              "        const buttonEl =\n",
              "          document.querySelector('#df-c0690a69-5385-4e42-a6e5-2af5b4dcb78a button.colab-df-convert');\n",
              "        buttonEl.style.display =\n",
              "          google.colab.kernel.accessAllowed ? 'block' : 'none';\n",
              "\n",
              "        async function convertToInteractive(key) {\n",
              "          const element = document.querySelector('#df-c0690a69-5385-4e42-a6e5-2af5b4dcb78a');\n",
              "          const dataTable =\n",
              "            await google.colab.kernel.invokeFunction('convertToInteractive',\n",
              "                                                     [key], {});\n",
              "          if (!dataTable) return;\n",
              "\n",
              "          const docLinkHtml = 'Like what you see? Visit the ' +\n",
              "            '<a target=\"_blank\" href=https://colab.research.google.com/notebooks/data_table.ipynb>data table notebook</a>'\n",
              "            + ' to learn more about interactive tables.';\n",
              "          element.innerHTML = '';\n",
              "          dataTable['output_type'] = 'display_data';\n",
              "          await google.colab.output.renderOutput(dataTable, element);\n",
              "          const docLink = document.createElement('div');\n",
              "          docLink.innerHTML = docLinkHtml;\n",
              "          element.appendChild(docLink);\n",
              "        }\n",
              "      </script>\n",
              "    </div>\n",
              "  </div>\n",
              "  "
            ],
            "text/plain": [
              "     GP   MIN  PTS  FGM  FGA   FG%  ...  DREB  REB  AST  STL  BLK  TOV\n",
              "0  63.0  27.4  7.4  2.6  7.6  34.7  ...   3.4  4.1  1.9  0.4  0.4  1.3\n",
              "1  35.0  26.9  7.2  2.0  6.7  29.6  ...   2.0  2.4  3.7  1.1  0.5  1.6\n",
              "2  74.0  15.3  5.2  2.0  4.7  42.2  ...   1.7  2.2  1.0  0.5  0.3  1.0\n",
              "3  58.0  11.6  5.7  2.3  5.5  42.6  ...   0.9  1.9  0.8  0.6  0.1  1.0\n",
              "4  48.0  11.5  4.5  1.6  3.0  52.4  ...   1.5  2.5  0.3  0.3  0.4  0.8\n",
              "\n",
              "[5 rows x 19 columns]"
            ]
          },
          "metadata": {},
          "execution_count": 21
        }
      ],
      "source": [
        "#resetting the index\n",
        "data.reset_index(drop=True, inplace=True)\n",
        "data.head()"
      ]
    },
    {
      "cell_type": "markdown",
      "metadata": {
        "id": "Zv8g_m2R3f7j"
      },
      "source": [
        "Identifying the top 12 features for the dataset showing the importance with the class variable."
      ]
    },
    {
      "cell_type": "code",
      "execution_count": null,
      "metadata": {
        "colab": {
          "base_uri": "https://localhost:8080/"
        },
        "id": "S7xXtESs3f7k",
        "outputId": "452490b3-49a6-48ec-e5cd-fc45fb443589"
      },
      "outputs": [
        {
          "output_type": "stream",
          "name": "stdout",
          "text": [
            "   Specs        Score\n",
            "0     GP  1026.162403\n",
            "1    MIN   526.082434\n",
            "2    PTS   373.235386\n",
            "4    FGA   251.634496\n",
            "14   REB   167.499527\n",
            "3    FGM   145.603935\n",
            "10   FTA   112.771481\n",
            "13  DREB    99.079570\n",
            "9    FTM    88.615268\n",
            "12  OREB    68.517799\n",
            "5    FG%    58.916027\n",
            "15   AST    56.586714\n"
          ]
        }
      ],
      "source": [
        "bestfeatures = SelectKBest(score_func=chi2, k=10)\n",
        "fit = bestfeatures.fit(data,Target)\n",
        "dfscores = pd.DataFrame(fit.scores_)\n",
        "dfcolumns = pd.DataFrame(data.columns)\n",
        "#concat two dataframes for better visualization \n",
        "featureScores = pd.concat([dfcolumns,dfscores],axis=1)\n",
        "#naming the dataframe columns\n",
        "featureScores.columns = ['Specs','Score'] \n",
        "bestfeature_columns = featureScores.nlargest(12,'Score')\n",
        "#print 12 best features\n",
        "print(bestfeature_columns) "
      ]
    },
    {
      "cell_type": "markdown",
      "metadata": {
        "id": "auxDffsm3f7l"
      },
      "source": [
        "#### Correlational Analysis "
      ]
    },
    {
      "cell_type": "code",
      "execution_count": null,
      "metadata": {
        "colab": {
          "base_uri": "https://localhost:8080/"
        },
        "id": "B_iuuSdC3f7m",
        "outputId": "e969f2a3-15fd-4bf9-c409-73e036ac1b7c"
      },
      "outputs": [
        {
          "output_type": "stream",
          "name": "stdout",
          "text": [
            "TOV   FTM        0.804990\n",
            "FGA   FTA        0.805559\n",
            "TOV   MIN        0.823279\n",
            "FTM   FGA        0.826616\n",
            "TOV   FGM        0.834352\n",
            "DREB  OREB       0.837771\n",
            "FTA   FGM        0.840408\n",
            "FGA   TOV        0.845989\n",
            "FTM   FGM        0.848019\n",
            "PTS   TOV        0.850366\n",
            "      FTA        0.880703\n",
            "      FTM        0.896297\n",
            "MIN   FGM        0.900580\n",
            "FGA   MIN        0.908012\n",
            "PTS   MIN        0.909471\n",
            "OREB  REB        0.931994\n",
            "REB   DREB       0.978177\n",
            "FGA   PTS        0.979733\n",
            "FGM   FGA        0.980050\n",
            "FTM   FTA        0.980505\n",
            "3PA   3P Made    0.982616\n",
            "PTS   FGM        0.990834\n",
            "dtype: float64\n"
          ]
        }
      ],
      "source": [
        "#get correlations of each features in dataset\n",
        "corr_matrix = data.corr()\n",
        "corrPairs = corr_matrix.unstack()\n",
        "ordPairs = corrPairs.sort_values(kind=\"quicksort\").drop_duplicates()\n",
        "positivePairs = ordPairs[ordPairs >0.8 ]\n",
        "positivePairs = positivePairs[ordPairs <1 ]\n",
        "print(positivePairs)"
      ]
    },
    {
      "cell_type": "markdown",
      "metadata": {
        "id": "9xE9o5LO3f7n"
      },
      "source": [
        "The above pairwise data shows we have highly correlated features in our dataset. We will plot a heatmap to visualize the correlation in the dataset.\n"
      ]
    },
    {
      "cell_type": "code",
      "execution_count": null,
      "metadata": {
        "colab": {
          "base_uri": "https://localhost:8080/",
          "height": 596
        },
        "id": "LZ1HiBxB3f7o",
        "outputId": "30320c70-6521-4cc6-91f7-4bf87e311eaa"
      },
      "outputs": [
        {
          "output_type": "display_data",
          "data": {
            "image/png": "[encoded data removed]",
            "text/plain": [
              "<Figure size 1152x720 with 2 Axes>"
            ]
          },
          "metadata": {
            "needs_background": "light"
          }
        }
      ],
      "source": [
        "#correlation matrix heatmap\n",
        "plt.rcParams[\"figure.figsize\"]=16,10\n",
        "sns.heatmap(corr_matrix, annot=True, cmap=\"YlGnBu\")\n",
        "plt.show()"
      ]
    },
    {
      "cell_type": "markdown",
      "metadata": {
        "id": "C8-1WWSs3f7p"
      },
      "source": [
        "To deal with highly correlated features we will transform the dataset. We will do principle component analysis and find the principle components."
      ]
    },
    {
      "cell_type": "code",
      "execution_count": null,
      "metadata": {
        "id": "GFr0xHua3f7q"
      },
      "outputs": [],
      "source": [
        "#Scalling the data for doing PCA\n",
        "scaler = MinMaxScaler()\n",
        "scaled_data = scaler.fit_transform(data)"
      ]
    },
    {
      "cell_type": "code",
      "execution_count": null,
      "metadata": {
        "colab": {
          "base_uri": "https://localhost:8080/",
          "height": 206
        },
        "id": "L50kkmMZ3f7q",
        "outputId": "6a53ca28-7e68-4c13-ec9d-8eaedd6ae4e5"
      },
      "outputs": [
        {
          "output_type": "execute_result",
          "data": {
            "text/html": [
              "\n",
              "  <div id=\"df-f086d358-59a9-48e8-bee4-06c01aea3522\">\n",
              "    <div class=\"colab-df-container\">\n",
              "      <div>\n",
              "<style scoped>\n",
              "    .dataframe tbody tr th:only-of-type {\n",
              "        vertical-align: middle;\n",
              "    }\n",
              "\n",
              "    .dataframe tbody tr th {\n",
              "        vertical-align: top;\n",
              "    }\n",
              "\n",
              "    .dataframe thead th {\n",
              "        text-align: right;\n",
              "    }\n",
              "</style>\n",
              "<table border=\"1\" class=\"dataframe\">\n",
              "  <thead>\n",
              "    <tr style=\"text-align: right;\">\n",
              "      <th></th>\n",
              "      <th>0</th>\n",
              "      <th>1</th>\n",
              "      <th>2</th>\n",
              "      <th>3</th>\n",
              "      <th>4</th>\n",
              "      <th>5</th>\n",
              "      <th>6</th>\n",
              "      <th>7</th>\n",
              "      <th>8</th>\n",
              "    </tr>\n",
              "  </thead>\n",
              "  <tbody>\n",
              "    <tr>\n",
              "      <th>0</th>\n",
              "      <td>0.227159</td>\n",
              "      <td>0.188431</td>\n",
              "      <td>0.065438</td>\n",
              "      <td>-0.158029</td>\n",
              "      <td>0.065968</td>\n",
              "      <td>-0.010491</td>\n",
              "      <td>-0.211907</td>\n",
              "      <td>0.019314</td>\n",
              "      <td>-0.011164</td>\n",
              "    </tr>\n",
              "    <tr>\n",
              "      <th>1</th>\n",
              "      <td>0.178225</td>\n",
              "      <td>0.474376</td>\n",
              "      <td>0.377147</td>\n",
              "      <td>0.155528</td>\n",
              "      <td>0.174692</td>\n",
              "      <td>0.024473</td>\n",
              "      <td>-0.212897</td>\n",
              "      <td>-0.062765</td>\n",
              "      <td>0.168795</td>\n",
              "    </tr>\n",
              "    <tr>\n",
              "      <th>2</th>\n",
              "      <td>-0.097304</td>\n",
              "      <td>0.135437</td>\n",
              "      <td>-0.217954</td>\n",
              "      <td>-0.136562</td>\n",
              "      <td>0.036852</td>\n",
              "      <td>-0.036133</td>\n",
              "      <td>-0.025697</td>\n",
              "      <td>0.068358</td>\n",
              "      <td>0.017711</td>\n",
              "    </tr>\n",
              "    <tr>\n",
              "      <th>3</th>\n",
              "      <td>-0.217447</td>\n",
              "      <td>0.011651</td>\n",
              "      <td>-0.040335</td>\n",
              "      <td>0.049766</td>\n",
              "      <td>-0.079379</td>\n",
              "      <td>0.007165</td>\n",
              "      <td>0.016448</td>\n",
              "      <td>0.041584</td>\n",
              "      <td>-0.070760</td>\n",
              "    </tr>\n",
              "    <tr>\n",
              "      <th>4</th>\n",
              "      <td>-0.348044</td>\n",
              "      <td>-0.244492</td>\n",
              "      <td>0.089596</td>\n",
              "      <td>0.024837</td>\n",
              "      <td>0.007221</td>\n",
              "      <td>-0.127234</td>\n",
              "      <td>0.111543</td>\n",
              "      <td>-0.031657</td>\n",
              "      <td>0.087389</td>\n",
              "    </tr>\n",
              "  </tbody>\n",
              "</table>\n",
              "</div>\n",
              "      <button class=\"colab-df-convert\" onclick=\"convertToInteractive('df-f086d358-59a9-48e8-bee4-06c01aea3522')\"\n",
              "              title=\"Convert this dataframe to an interactive table.\"\n",
              "              style=\"display:none;\">\n",
              "        \n",
              "  <svg xmlns=\"http://www.w3.org/2000/svg\" height=\"24px\"viewBox=\"0 0 24 24\"\n",
              "       width=\"24px\">\n",
              "    <path d=\"M0 0h24v24H0V0z\" fill=\"none\"/>\n",
              "    <path d=\"M18.56 5.44l.94 2.06.94-2.06 2.06-.94-2.06-.94-.94-2.06-.94 2.06-2.06.94zm-11 1L8.5 8.5l.94-2.06 2.06-.94-2.06-.94L8.5 2.5l-.94 2.06-2.06.94zm10 10l.94 2.06.94-2.06 2.06-.94-2.06-.94-.94-2.06-.94 2.06-2.06.94z\"/><path d=\"M17.41 7.96l-1.37-1.37c-.4-.4-.92-.59-1.43-.59-.52 0-1.04.2-1.43.59L10.3 9.45l-7.72 7.72c-.78.78-.78 2.05 0 2.83L4 21.41c.39.39.9.59 1.41.59.51 0 1.02-.2 1.41-.59l7.78-7.78 2.81-2.81c.8-.78.8-2.07 0-2.86zM5.41 20L4 18.59l7.72-7.72 1.47 1.35L5.41 20z\"/>\n",
              "  </svg>\n",
              "      </button>\n",
              "      \n",
              "  <style>\n",
              "    .colab-df-container {\n",
              "      display:flex;\n",
              "      flex-wrap:wrap;\n",
              "      gap: 12px;\n",
              "    }\n",
              "\n",
              "    .colab-df-convert {\n",
              "      background-color: #E8F0FE;\n",
              "      border: none;\n",
              "      border-radius: 50%;\n",
              "      cursor: pointer;\n",
              "      display: none;\n",
              "      fill: #1967D2;\n",
              "      height: 32px;\n",
              "      padding: 0 0 0 0;\n",
              "      width: 32px;\n",
              "    }\n",
              "\n",
              "    .colab-df-convert:hover {\n",
              "      background-color: #E2EBFA;\n",
              "      box-shadow: 0px 1px 2px rgba(60, 64, 67, 0.3), 0px 1px 3px 1px rgba(60, 64, 67, 0.15);\n",
              "      fill: #174EA6;\n",
              "    }\n",
              "\n",
              "    [theme=dark] .colab-df-convert {\n",
              "      background-color: #3B4455;\n",
              "      fill: #D2E3FC;\n",
              "    }\n",
              "\n",
              "    [theme=dark] .colab-df-convert:hover {\n",
              "      background-color: #434B5C;\n",
              "      box-shadow: 0px 1px 3px 1px rgba(0, 0, 0, 0.15);\n",
              "      filter: drop-shadow(0px 1px 2px rgba(0, 0, 0, 0.3));\n",
              "      fill: #FFFFFF;\n",
              "    }\n",
              "  </style>\n",
              "\n",
              "      <script>\n",
              "        const buttonEl =\n",
              "          document.querySelector('#df-f086d358-59a9-48e8-bee4-06c01aea3522 button.colab-df-convert');\n",
              "        buttonEl.style.display =\n",
              "          google.colab.kernel.accessAllowed ? 'block' : 'none';\n",
              "\n",
              "        async function convertToInteractive(key) {\n",
              "          const element = document.querySelector('#df-f086d358-59a9-48e8-bee4-06c01aea3522');\n",
              "          const dataTable =\n",
              "            await google.colab.kernel.invokeFunction('convertToInteractive',\n",
              "                                                     [key], {});\n",
              "          if (!dataTable) return;\n",
              "\n",
              "          const docLinkHtml = 'Like what you see? Visit the ' +\n",
              "            '<a target=\"_blank\" href=https://colab.research.google.com/notebooks/data_table.ipynb>data table notebook</a>'\n",
              "            + ' to learn more about interactive tables.';\n",
              "          element.innerHTML = '';\n",
              "          dataTable['output_type'] = 'display_data';\n",
              "          await google.colab.output.renderOutput(dataTable, element);\n",
              "          const docLink = document.createElement('div');\n",
              "          docLink.innerHTML = docLinkHtml;\n",
              "          element.appendChild(docLink);\n",
              "        }\n",
              "      </script>\n",
              "    </div>\n",
              "  </div>\n",
              "  "
            ],
            "text/plain": [
              "          0         1         2  ...         6         7         8\n",
              "0  0.227159  0.188431  0.065438  ... -0.211907  0.019314 -0.011164\n",
              "1  0.178225  0.474376  0.377147  ... -0.212897 -0.062765  0.168795\n",
              "2 -0.097304  0.135437 -0.217954  ... -0.025697  0.068358  0.017711\n",
              "3 -0.217447  0.011651 -0.040335  ...  0.016448  0.041584 -0.070760\n",
              "4 -0.348044 -0.244492  0.089596  ...  0.111543 -0.031657  0.087389\n",
              "\n",
              "[5 rows x 9 columns]"
            ]
          },
          "metadata": {},
          "execution_count": 39
        }
      ],
      "source": [
        "from sklearn.decomposition import PCA\n",
        "#cheking the number of principle coponents with 95% data\n",
        "pca = PCA(n_components = 0.95,svd_solver = 'full')\n",
        "pca.fit(scaled_data)\n",
        "pca_df=pd.DataFrame(pca.transform(scaled_data))\n",
        "pca_df.head()"
      ]
    },
    {
      "cell_type": "markdown",
      "metadata": {
        "id": "4SkVW1hN3f7r"
      },
      "source": [
        "We found that there are 8 principle components which explains 95% of the data. So we will be taking all 8 componets and will create columns with them."
      ]
    },
    {
      "cell_type": "code",
      "execution_count": null,
      "metadata": {
        "scrolled": true,
        "colab": {
          "base_uri": "https://localhost:8080/",
          "height": 206
        },
        "id": "WCK-jrsB3f7s",
        "outputId": "0f911214-87e1-42ea-b469-b7c1df482765"
      },
      "outputs": [
        {
          "output_type": "execute_result",
          "data": {
            "text/html": [
              "\n",
              "  <div id=\"df-046b546c-b530-48fd-9ca0-ea9e11633277\">\n",
              "    <div class=\"colab-df-container\">\n",
              "      <div>\n",
              "<style scoped>\n",
              "    .dataframe tbody tr th:only-of-type {\n",
              "        vertical-align: middle;\n",
              "    }\n",
              "\n",
              "    .dataframe tbody tr th {\n",
              "        vertical-align: top;\n",
              "    }\n",
              "\n",
              "    .dataframe thead th {\n",
              "        text-align: right;\n",
              "    }\n",
              "</style>\n",
              "<table border=\"1\" class=\"dataframe\">\n",
              "  <thead>\n",
              "    <tr style=\"text-align: right;\">\n",
              "      <th></th>\n",
              "      <th>PC1</th>\n",
              "      <th>PC2</th>\n",
              "      <th>PC3</th>\n",
              "      <th>PC4</th>\n",
              "      <th>PC5</th>\n",
              "      <th>PC6</th>\n",
              "      <th>PC7</th>\n",
              "      <th>PC8</th>\n",
              "      <th>PC9</th>\n",
              "    </tr>\n",
              "  </thead>\n",
              "  <tbody>\n",
              "    <tr>\n",
              "      <th>0</th>\n",
              "      <td>0.227159</td>\n",
              "      <td>0.188431</td>\n",
              "      <td>0.065438</td>\n",
              "      <td>-0.158029</td>\n",
              "      <td>0.065968</td>\n",
              "      <td>-0.010491</td>\n",
              "      <td>-0.211907</td>\n",
              "      <td>0.019314</td>\n",
              "      <td>-0.011164</td>\n",
              "    </tr>\n",
              "    <tr>\n",
              "      <th>1</th>\n",
              "      <td>0.178225</td>\n",
              "      <td>0.474376</td>\n",
              "      <td>0.377147</td>\n",
              "      <td>0.155528</td>\n",
              "      <td>0.174692</td>\n",
              "      <td>0.024473</td>\n",
              "      <td>-0.212897</td>\n",
              "      <td>-0.062765</td>\n",
              "      <td>0.168795</td>\n",
              "    </tr>\n",
              "    <tr>\n",
              "      <th>2</th>\n",
              "      <td>-0.097304</td>\n",
              "      <td>0.135437</td>\n",
              "      <td>-0.217954</td>\n",
              "      <td>-0.136562</td>\n",
              "      <td>0.036852</td>\n",
              "      <td>-0.036133</td>\n",
              "      <td>-0.025697</td>\n",
              "      <td>0.068358</td>\n",
              "      <td>0.017711</td>\n",
              "    </tr>\n",
              "    <tr>\n",
              "      <th>3</th>\n",
              "      <td>-0.217447</td>\n",
              "      <td>0.011651</td>\n",
              "      <td>-0.040335</td>\n",
              "      <td>0.049766</td>\n",
              "      <td>-0.079379</td>\n",
              "      <td>0.007165</td>\n",
              "      <td>0.016448</td>\n",
              "      <td>0.041584</td>\n",
              "      <td>-0.070760</td>\n",
              "    </tr>\n",
              "    <tr>\n",
              "      <th>4</th>\n",
              "      <td>-0.348044</td>\n",
              "      <td>-0.244492</td>\n",
              "      <td>0.089596</td>\n",
              "      <td>0.024837</td>\n",
              "      <td>0.007221</td>\n",
              "      <td>-0.127234</td>\n",
              "      <td>0.111543</td>\n",
              "      <td>-0.031657</td>\n",
              "      <td>0.087389</td>\n",
              "    </tr>\n",
              "  </tbody>\n",
              "</table>\n",
              "</div>\n",
              "      <button class=\"colab-df-convert\" onclick=\"convertToInteractive('df-046b546c-b530-48fd-9ca0-ea9e11633277')\"\n",
              "              title=\"Convert this dataframe to an interactive table.\"\n",
              "              style=\"display:none;\">\n",
              "        \n",
              "  <svg xmlns=\"http://www.w3.org/2000/svg\" height=\"24px\"viewBox=\"0 0 24 24\"\n",
              "       width=\"24px\">\n",
              "    <path d=\"M0 0h24v24H0V0z\" fill=\"none\"/>\n",
              "    <path d=\"M18.56 5.44l.94 2.06.94-2.06 2.06-.94-2.06-.94-.94-2.06-.94 2.06-2.06.94zm-11 1L8.5 8.5l.94-2.06 2.06-.94-2.06-.94L8.5 2.5l-.94 2.06-2.06.94zm10 10l.94 2.06.94-2.06 2.06-.94-2.06-.94-.94-2.06-.94 2.06-2.06.94z\"/><path d=\"M17.41 7.96l-1.37-1.37c-.4-.4-.92-.59-1.43-.59-.52 0-1.04.2-1.43.59L10.3 9.45l-7.72 7.72c-.78.78-.78 2.05 0 2.83L4 21.41c.39.39.9.59 1.41.59.51 0 1.02-.2 1.41-.59l7.78-7.78 2.81-2.81c.8-.78.8-2.07 0-2.86zM5.41 20L4 18.59l7.72-7.72 1.47 1.35L5.41 20z\"/>\n",
              "  </svg>\n",
              "      </button>\n",
              "      \n",
              "  <style>\n",
              "    .colab-df-container {\n",
              "      display:flex;\n",
              "      flex-wrap:wrap;\n",
              "      gap: 12px;\n",
              "    }\n",
              "\n",
              "    .colab-df-convert {\n",
              "      background-color: #E8F0FE;\n",
              "      border: none;\n",
              "      border-radius: 50%;\n",
              "      cursor: pointer;\n",
              "      display: none;\n",
              "      fill: #1967D2;\n",
              "      height: 32px;\n",
              "      padding: 0 0 0 0;\n",
              "      width: 32px;\n",
              "    }\n",
              "\n",
              "    .colab-df-convert:hover {\n",
              "      background-color: #E2EBFA;\n",
              "      box-shadow: 0px 1px 2px rgba(60, 64, 67, 0.3), 0px 1px 3px 1px rgba(60, 64, 67, 0.15);\n",
              "      fill: #174EA6;\n",
              "    }\n",
              "\n",
              "    [theme=dark] .colab-df-convert {\n",
              "      background-color: #3B4455;\n",
              "      fill: #D2E3FC;\n",
              "    }\n",
              "\n",
              "    [theme=dark] .colab-df-convert:hover {\n",
              "      background-color: #434B5C;\n",
              "      box-shadow: 0px 1px 3px 1px rgba(0, 0, 0, 0.15);\n",
              "      filter: drop-shadow(0px 1px 2px rgba(0, 0, 0, 0.3));\n",
              "      fill: #FFFFFF;\n",
              "    }\n",
              "  </style>\n",
              "\n",
              "      <script>\n",
              "        const buttonEl =\n",
              "          document.querySelector('#df-046b546c-b530-48fd-9ca0-ea9e11633277 button.colab-df-convert');\n",
              "        buttonEl.style.display =\n",
              "          google.colab.kernel.accessAllowed ? 'block' : 'none';\n",
              "\n",
              "        async function convertToInteractive(key) {\n",
              "          const element = document.querySelector('#df-046b546c-b530-48fd-9ca0-ea9e11633277');\n",
              "          const dataTable =\n",
              "            await google.colab.kernel.invokeFunction('convertToInteractive',\n",
              "                                                     [key], {});\n",
              "          if (!dataTable) return;\n",
              "\n",
              "          const docLinkHtml = 'Like what you see? Visit the ' +\n",
              "            '<a target=\"_blank\" href=https://colab.research.google.com/notebooks/data_table.ipynb>data table notebook</a>'\n",
              "            + ' to learn more about interactive tables.';\n",
              "          element.innerHTML = '';\n",
              "          dataTable['output_type'] = 'display_data';\n",
              "          await google.colab.output.renderOutput(dataTable, element);\n",
              "          const docLink = document.createElement('div');\n",
              "          docLink.innerHTML = docLinkHtml;\n",
              "          element.appendChild(docLink);\n",
              "        }\n",
              "      </script>\n",
              "    </div>\n",
              "  </div>\n",
              "  "
            ],
            "text/plain": [
              "        PC1       PC2       PC3  ...       PC7       PC8       PC9\n",
              "0  0.227159  0.188431  0.065438  ... -0.211907  0.019314 -0.011164\n",
              "1  0.178225  0.474376  0.377147  ... -0.212897 -0.062765  0.168795\n",
              "2 -0.097304  0.135437 -0.217954  ... -0.025697  0.068358  0.017711\n",
              "3 -0.217447  0.011651 -0.040335  ...  0.016448  0.041584 -0.070760\n",
              "4 -0.348044 -0.244492  0.089596  ...  0.111543 -0.031657  0.087389\n",
              "\n",
              "[5 rows x 9 columns]"
            ]
          },
          "metadata": {},
          "execution_count": 40
        }
      ],
      "source": [
        "pca_df.index=data.index\n",
        "pca_df.columns=[\"PC1\",\"PC2\",'PC3','PC4','PC5','PC6','PC7','PC8','PC9']\n",
        "#'PC10','PC11','PC12','PC13']\n",
        "pca_df.head()"
      ]
    },
    {
      "cell_type": "code",
      "execution_count": null,
      "metadata": {
        "colab": {
          "base_uri": "https://localhost:8080/",
          "height": 300
        },
        "id": "ao8bljbw3f7t",
        "outputId": "38eccaea-c940-4be0-c7aa-148c62920096"
      },
      "outputs": [
        {
          "output_type": "execute_result",
          "data": {
            "text/html": [
              "\n",
              "  <div id=\"df-7ca4de43-e236-45a7-97ec-901ab2eb49c1\">\n",
              "    <div class=\"colab-df-container\">\n",
              "      <div>\n",
              "<style scoped>\n",
              "    .dataframe tbody tr th:only-of-type {\n",
              "        vertical-align: middle;\n",
              "    }\n",
              "\n",
              "    .dataframe tbody tr th {\n",
              "        vertical-align: top;\n",
              "    }\n",
              "\n",
              "    .dataframe thead th {\n",
              "        text-align: right;\n",
              "    }\n",
              "</style>\n",
              "<table border=\"1\" class=\"dataframe\">\n",
              "  <thead>\n",
              "    <tr style=\"text-align: right;\">\n",
              "      <th></th>\n",
              "      <th>PC1</th>\n",
              "      <th>PC2</th>\n",
              "      <th>PC3</th>\n",
              "      <th>PC4</th>\n",
              "      <th>PC5</th>\n",
              "      <th>PC6</th>\n",
              "      <th>PC7</th>\n",
              "      <th>PC8</th>\n",
              "      <th>PC9</th>\n",
              "    </tr>\n",
              "  </thead>\n",
              "  <tbody>\n",
              "    <tr>\n",
              "      <th>count</th>\n",
              "      <td>1.340000e+03</td>\n",
              "      <td>1.340000e+03</td>\n",
              "      <td>1.340000e+03</td>\n",
              "      <td>1.340000e+03</td>\n",
              "      <td>1.340000e+03</td>\n",
              "      <td>1.340000e+03</td>\n",
              "      <td>1.340000e+03</td>\n",
              "      <td>1.340000e+03</td>\n",
              "      <td>1.340000e+03</td>\n",
              "    </tr>\n",
              "    <tr>\n",
              "      <th>mean</th>\n",
              "      <td>-1.549341e-17</td>\n",
              "      <td>-6.781474e-17</td>\n",
              "      <td>-2.252551e-18</td>\n",
              "      <td>-3.511391e-17</td>\n",
              "      <td>-1.516783e-17</td>\n",
              "      <td>-4.313506e-17</td>\n",
              "      <td>5.792423e-17</td>\n",
              "      <td>8.254177e-18</td>\n",
              "      <td>4.926744e-17</td>\n",
              "    </tr>\n",
              "    <tr>\n",
              "      <th>std</th>\n",
              "      <td>5.159746e-01</td>\n",
              "      <td>2.960416e-01</td>\n",
              "      <td>1.931981e-01</td>\n",
              "      <td>1.653866e-01</td>\n",
              "      <td>1.191825e-01</td>\n",
              "      <td>1.137191e-01</td>\n",
              "      <td>9.912502e-02</td>\n",
              "      <td>9.085755e-02</td>\n",
              "      <td>8.100285e-02</td>\n",
              "    </tr>\n",
              "    <tr>\n",
              "      <th>min</th>\n",
              "      <td>-9.647320e-01</td>\n",
              "      <td>-9.682235e-01</td>\n",
              "      <td>-4.634218e-01</td>\n",
              "      <td>-6.965958e-01</td>\n",
              "      <td>-4.749766e-01</td>\n",
              "      <td>-4.285900e-01</td>\n",
              "      <td>-3.349776e-01</td>\n",
              "      <td>-3.340839e-01</td>\n",
              "      <td>-3.570266e-01</td>\n",
              "    </tr>\n",
              "    <tr>\n",
              "      <th>25%</th>\n",
              "      <td>-4.065546e-01</td>\n",
              "      <td>-2.259528e-01</td>\n",
              "      <td>-1.468510e-01</td>\n",
              "      <td>-9.658409e-02</td>\n",
              "      <td>-7.525172e-02</td>\n",
              "      <td>-7.987457e-02</td>\n",
              "      <td>-6.291945e-02</td>\n",
              "      <td>-5.784352e-02</td>\n",
              "      <td>-4.412597e-02</td>\n",
              "    </tr>\n",
              "    <tr>\n",
              "      <th>50%</th>\n",
              "      <td>-8.201418e-02</td>\n",
              "      <td>9.233518e-04</td>\n",
              "      <td>-1.398575e-02</td>\n",
              "      <td>-4.019584e-03</td>\n",
              "      <td>1.263224e-03</td>\n",
              "      <td>-4.562702e-03</td>\n",
              "      <td>-4.408437e-03</td>\n",
              "      <td>-9.488133e-04</td>\n",
              "      <td>-7.047275e-04</td>\n",
              "    </tr>\n",
              "    <tr>\n",
              "      <th>75%</th>\n",
              "      <td>3.002386e-01</td>\n",
              "      <td>2.003735e-01</td>\n",
              "      <td>1.244118e-01</td>\n",
              "      <td>8.867840e-02</td>\n",
              "      <td>7.469587e-02</td>\n",
              "      <td>7.242524e-02</td>\n",
              "      <td>5.903903e-02</td>\n",
              "      <td>5.457151e-02</td>\n",
              "      <td>4.075341e-02</td>\n",
              "    </tr>\n",
              "    <tr>\n",
              "      <th>max</th>\n",
              "      <td>1.931666e+00</td>\n",
              "      <td>1.128126e+00</td>\n",
              "      <td>6.627662e-01</td>\n",
              "      <td>7.785183e-01</td>\n",
              "      <td>5.428874e-01</td>\n",
              "      <td>6.310198e-01</td>\n",
              "      <td>5.587193e-01</td>\n",
              "      <td>6.225763e-01</td>\n",
              "      <td>5.365245e-01</td>\n",
              "    </tr>\n",
              "  </tbody>\n",
              "</table>\n",
              "</div>\n",
              "      <button class=\"colab-df-convert\" onclick=\"convertToInteractive('df-7ca4de43-e236-45a7-97ec-901ab2eb49c1')\"\n",
              "              title=\"Convert this dataframe to an interactive table.\"\n",
              "              style=\"display:none;\">\n",
              "        \n",
              "  <svg xmlns=\"http://www.w3.org/2000/svg\" height=\"24px\"viewBox=\"0 0 24 24\"\n",
              "       width=\"24px\">\n",
              "    <path d=\"M0 0h24v24H0V0z\" fill=\"none\"/>\n",
              "    <path d=\"M18.56 5.44l.94 2.06.94-2.06 2.06-.94-2.06-.94-.94-2.06-.94 2.06-2.06.94zm-11 1L8.5 8.5l.94-2.06 2.06-.94-2.06-.94L8.5 2.5l-.94 2.06-2.06.94zm10 10l.94 2.06.94-2.06 2.06-.94-2.06-.94-.94-2.06-.94 2.06-2.06.94z\"/><path d=\"M17.41 7.96l-1.37-1.37c-.4-.4-.92-.59-1.43-.59-.52 0-1.04.2-1.43.59L10.3 9.45l-7.72 7.72c-.78.78-.78 2.05 0 2.83L4 21.41c.39.39.9.59 1.41.59.51 0 1.02-.2 1.41-.59l7.78-7.78 2.81-2.81c.8-.78.8-2.07 0-2.86zM5.41 20L4 18.59l7.72-7.72 1.47 1.35L5.41 20z\"/>\n",
              "  </svg>\n",
              "      </button>\n",
              "      \n",
              "  <style>\n",
              "    .colab-df-container {\n",
              "      display:flex;\n",
              "      flex-wrap:wrap;\n",
              "      gap: 12px;\n",
              "    }\n",
              "\n",
              "    .colab-df-convert {\n",
              "      background-color: #E8F0FE;\n",
              "      border: none;\n",
              "      border-radius: 50%;\n",
              "      cursor: pointer;\n",
              "      display: none;\n",
              "      fill: #1967D2;\n",
              "      height: 32px;\n",
              "      padding: 0 0 0 0;\n",
              "      width: 32px;\n",
              "    }\n",
              "\n",
              "    .colab-df-convert:hover {\n",
              "      background-color: #E2EBFA;\n",
              "      box-shadow: 0px 1px 2px rgba(60, 64, 67, 0.3), 0px 1px 3px 1px rgba(60, 64, 67, 0.15);\n",
              "      fill: #174EA6;\n",
              "    }\n",
              "\n",
              "    [theme=dark] .colab-df-convert {\n",
              "      background-color: #3B4455;\n",
              "      fill: #D2E3FC;\n",
              "    }\n",
              "\n",
              "    [theme=dark] .colab-df-convert:hover {\n",
              "      background-color: #434B5C;\n",
              "      box-shadow: 0px 1px 3px 1px rgba(0, 0, 0, 0.15);\n",
              "      filter: drop-shadow(0px 1px 2px rgba(0, 0, 0, 0.3));\n",
              "      fill: #FFFFFF;\n",
              "    }\n",
              "  </style>\n",
              "\n",
              "      <script>\n",
              "        const buttonEl =\n",
              "          document.querySelector('#df-7ca4de43-e236-45a7-97ec-901ab2eb49c1 button.colab-df-convert');\n",
              "        buttonEl.style.display =\n",
              "          google.colab.kernel.accessAllowed ? 'block' : 'none';\n",
              "\n",
              "        async function convertToInteractive(key) {\n",
              "          const element = document.querySelector('#df-7ca4de43-e236-45a7-97ec-901ab2eb49c1');\n",
              "          const dataTable =\n",
              "            await google.colab.kernel.invokeFunction('convertToInteractive',\n",
              "                                                     [key], {});\n",
              "          if (!dataTable) return;\n",
              "\n",
              "          const docLinkHtml = 'Like what you see? Visit the ' +\n",
              "            '<a target=\"_blank\" href=https://colab.research.google.com/notebooks/data_table.ipynb>data table notebook</a>'\n",
              "            + ' to learn more about interactive tables.';\n",
              "          element.innerHTML = '';\n",
              "          dataTable['output_type'] = 'display_data';\n",
              "          await google.colab.output.renderOutput(dataTable, element);\n",
              "          const docLink = document.createElement('div');\n",
              "          docLink.innerHTML = docLinkHtml;\n",
              "          element.appendChild(docLink);\n",
              "        }\n",
              "      </script>\n",
              "    </div>\n",
              "  </div>\n",
              "  "
            ],
            "text/plain": [
              "                PC1           PC2  ...           PC8           PC9\n",
              "count  1.340000e+03  1.340000e+03  ...  1.340000e+03  1.340000e+03\n",
              "mean  -1.549341e-17 -6.781474e-17  ...  8.254177e-18  4.926744e-17\n",
              "std    5.159746e-01  2.960416e-01  ...  9.085755e-02  8.100285e-02\n",
              "min   -9.647320e-01 -9.682235e-01  ... -3.340839e-01 -3.570266e-01\n",
              "25%   -4.065546e-01 -2.259528e-01  ... -5.784352e-02 -4.412597e-02\n",
              "50%   -8.201418e-02  9.233518e-04  ... -9.488133e-04 -7.047275e-04\n",
              "75%    3.002386e-01  2.003735e-01  ...  5.457151e-02  4.075341e-02\n",
              "max    1.931666e+00  1.128126e+00  ...  6.225763e-01  5.365245e-01\n",
              "\n",
              "[8 rows x 9 columns]"
            ]
          },
          "metadata": {},
          "execution_count": 41
        }
      ],
      "source": [
        "pca_df.describe()"
      ]
    },
    {
      "cell_type": "code",
      "execution_count": null,
      "metadata": {
        "id": "qv7H1YEy3f7u"
      },
      "outputs": [],
      "source": [
        "pca_df=pca_df[[\"PC1\",\"PC2\",'PC3','PC4','PC5','PC6','PC7','PC8','PC9']]"
      ]
    },
    {
      "cell_type": "code",
      "execution_count": null,
      "metadata": {
        "colab": {
          "base_uri": "https://localhost:8080/",
          "height": 206
        },
        "id": "glqih0Rc3f7u",
        "outputId": "e91a9ef0-5e42-4cd1-939d-7f34bb2953ed"
      },
      "outputs": [
        {
          "output_type": "execute_result",
          "data": {
            "text/html": [
              "\n",
              "  <div id=\"df-7948b2ac-e0e8-4fd7-a815-488a99b7cfaa\">\n",
              "    <div class=\"colab-df-container\">\n",
              "      <div>\n",
              "<style scoped>\n",
              "    .dataframe tbody tr th:only-of-type {\n",
              "        vertical-align: middle;\n",
              "    }\n",
              "\n",
              "    .dataframe tbody tr th {\n",
              "        vertical-align: top;\n",
              "    }\n",
              "\n",
              "    .dataframe thead th {\n",
              "        text-align: right;\n",
              "    }\n",
              "</style>\n",
              "<table border=\"1\" class=\"dataframe\">\n",
              "  <thead>\n",
              "    <tr style=\"text-align: right;\">\n",
              "      <th></th>\n",
              "      <th>PC1</th>\n",
              "      <th>PC2</th>\n",
              "      <th>PC3</th>\n",
              "      <th>PC4</th>\n",
              "      <th>PC5</th>\n",
              "      <th>PC6</th>\n",
              "      <th>PC7</th>\n",
              "      <th>PC8</th>\n",
              "      <th>PC9</th>\n",
              "    </tr>\n",
              "  </thead>\n",
              "  <tbody>\n",
              "    <tr>\n",
              "      <th>0</th>\n",
              "      <td>0.227159</td>\n",
              "      <td>0.188431</td>\n",
              "      <td>0.065438</td>\n",
              "      <td>-0.158029</td>\n",
              "      <td>0.065968</td>\n",
              "      <td>-0.010491</td>\n",
              "      <td>-0.211907</td>\n",
              "      <td>0.019314</td>\n",
              "      <td>-0.011164</td>\n",
              "    </tr>\n",
              "    <tr>\n",
              "      <th>1</th>\n",
              "      <td>0.178225</td>\n",
              "      <td>0.474376</td>\n",
              "      <td>0.377147</td>\n",
              "      <td>0.155528</td>\n",
              "      <td>0.174692</td>\n",
              "      <td>0.024473</td>\n",
              "      <td>-0.212897</td>\n",
              "      <td>-0.062765</td>\n",
              "      <td>0.168795</td>\n",
              "    </tr>\n",
              "    <tr>\n",
              "      <th>2</th>\n",
              "      <td>-0.097304</td>\n",
              "      <td>0.135437</td>\n",
              "      <td>-0.217954</td>\n",
              "      <td>-0.136562</td>\n",
              "      <td>0.036852</td>\n",
              "      <td>-0.036133</td>\n",
              "      <td>-0.025697</td>\n",
              "      <td>0.068358</td>\n",
              "      <td>0.017711</td>\n",
              "    </tr>\n",
              "    <tr>\n",
              "      <th>3</th>\n",
              "      <td>-0.217447</td>\n",
              "      <td>0.011651</td>\n",
              "      <td>-0.040335</td>\n",
              "      <td>0.049766</td>\n",
              "      <td>-0.079379</td>\n",
              "      <td>0.007165</td>\n",
              "      <td>0.016448</td>\n",
              "      <td>0.041584</td>\n",
              "      <td>-0.070760</td>\n",
              "    </tr>\n",
              "    <tr>\n",
              "      <th>4</th>\n",
              "      <td>-0.348044</td>\n",
              "      <td>-0.244492</td>\n",
              "      <td>0.089596</td>\n",
              "      <td>0.024837</td>\n",
              "      <td>0.007221</td>\n",
              "      <td>-0.127234</td>\n",
              "      <td>0.111543</td>\n",
              "      <td>-0.031657</td>\n",
              "      <td>0.087389</td>\n",
              "    </tr>\n",
              "  </tbody>\n",
              "</table>\n",
              "</div>\n",
              "      <button class=\"colab-df-convert\" onclick=\"convertToInteractive('df-7948b2ac-e0e8-4fd7-a815-488a99b7cfaa')\"\n",
              "              title=\"Convert this dataframe to an interactive table.\"\n",
              "              style=\"display:none;\">\n",
              "        \n",
              "  <svg xmlns=\"http://www.w3.org/2000/svg\" height=\"24px\"viewBox=\"0 0 24 24\"\n",
              "       width=\"24px\">\n",
              "    <path d=\"M0 0h24v24H0V0z\" fill=\"none\"/>\n",
              "    <path d=\"M18.56 5.44l.94 2.06.94-2.06 2.06-.94-2.06-.94-.94-2.06-.94 2.06-2.06.94zm-11 1L8.5 8.5l.94-2.06 2.06-.94-2.06-.94L8.5 2.5l-.94 2.06-2.06.94zm10 10l.94 2.06.94-2.06 2.06-.94-2.06-.94-.94-2.06-.94 2.06-2.06.94z\"/><path d=\"M17.41 7.96l-1.37-1.37c-.4-.4-.92-.59-1.43-.59-.52 0-1.04.2-1.43.59L10.3 9.45l-7.72 7.72c-.78.78-.78 2.05 0 2.83L4 21.41c.39.39.9.59 1.41.59.51 0 1.02-.2 1.41-.59l7.78-7.78 2.81-2.81c.8-.78.8-2.07 0-2.86zM5.41 20L4 18.59l7.72-7.72 1.47 1.35L5.41 20z\"/>\n",
              "  </svg>\n",
              "      </button>\n",
              "      \n",
              "  <style>\n",
              "    .colab-df-container {\n",
              "      display:flex;\n",
              "      flex-wrap:wrap;\n",
              "      gap: 12px;\n",
              "    }\n",
              "\n",
              "    .colab-df-convert {\n",
              "      background-color: #E8F0FE;\n",
              "      border: none;\n",
              "      border-radius: 50%;\n",
              "      cursor: pointer;\n",
              "      display: none;\n",
              "      fill: #1967D2;\n",
              "      height: 32px;\n",
              "      padding: 0 0 0 0;\n",
              "      width: 32px;\n",
              "    }\n",
              "\n",
              "    .colab-df-convert:hover {\n",
              "      background-color: #E2EBFA;\n",
              "      box-shadow: 0px 1px 2px rgba(60, 64, 67, 0.3), 0px 1px 3px 1px rgba(60, 64, 67, 0.15);\n",
              "      fill: #174EA6;\n",
              "    }\n",
              "\n",
              "    [theme=dark] .colab-df-convert {\n",
              "      background-color: #3B4455;\n",
              "      fill: #D2E3FC;\n",
              "    }\n",
              "\n",
              "    [theme=dark] .colab-df-convert:hover {\n",
              "      background-color: #434B5C;\n",
              "      box-shadow: 0px 1px 3px 1px rgba(0, 0, 0, 0.15);\n",
              "      filter: drop-shadow(0px 1px 2px rgba(0, 0, 0, 0.3));\n",
              "      fill: #FFFFFF;\n",
              "    }\n",
              "  </style>\n",
              "\n",
              "      <script>\n",
              "        const buttonEl =\n",
              "          document.querySelector('#df-7948b2ac-e0e8-4fd7-a815-488a99b7cfaa button.colab-df-convert');\n",
              "        buttonEl.style.display =\n",
              "          google.colab.kernel.accessAllowed ? 'block' : 'none';\n",
              "\n",
              "        async function convertToInteractive(key) {\n",
              "          const element = document.querySelector('#df-7948b2ac-e0e8-4fd7-a815-488a99b7cfaa');\n",
              "          const dataTable =\n",
              "            await google.colab.kernel.invokeFunction('convertToInteractive',\n",
              "                                                     [key], {});\n",
              "          if (!dataTable) return;\n",
              "\n",
              "          const docLinkHtml = 'Like what you see? Visit the ' +\n",
              "            '<a target=\"_blank\" href=https://colab.research.google.com/notebooks/data_table.ipynb>data table notebook</a>'\n",
              "            + ' to learn more about interactive tables.';\n",
              "          element.innerHTML = '';\n",
              "          dataTable['output_type'] = 'display_data';\n",
              "          await google.colab.output.renderOutput(dataTable, element);\n",
              "          const docLink = document.createElement('div');\n",
              "          docLink.innerHTML = docLinkHtml;\n",
              "          element.appendChild(docLink);\n",
              "        }\n",
              "      </script>\n",
              "    </div>\n",
              "  </div>\n",
              "  "
            ],
            "text/plain": [
              "        PC1       PC2       PC3  ...       PC7       PC8       PC9\n",
              "0  0.227159  0.188431  0.065438  ... -0.211907  0.019314 -0.011164\n",
              "1  0.178225  0.474376  0.377147  ... -0.212897 -0.062765  0.168795\n",
              "2 -0.097304  0.135437 -0.217954  ... -0.025697  0.068358  0.017711\n",
              "3 -0.217447  0.011651 -0.040335  ...  0.016448  0.041584 -0.070760\n",
              "4 -0.348044 -0.244492  0.089596  ...  0.111543 -0.031657  0.087389\n",
              "\n",
              "[5 rows x 9 columns]"
            ]
          },
          "metadata": {},
          "execution_count": 43
        }
      ],
      "source": [
        "pca_df.head()"
      ]
    },
    {
      "cell_type": "markdown",
      "metadata": {
        "id": "a8rwj9EQ3f7w"
      },
      "source": [
        "#### Normalization of data"
      ]
    },
    {
      "cell_type": "markdown",
      "metadata": {
        "id": "j5yicpue3f7w"
      },
      "source": [
        "Data normalization is the process of rescaling one or more attributes to the range of 0 to 1. As our dataset contains both numerical and categorical data we will do a mix max normalization by finding the min and the max values for each column."
      ]
    },
    {
      "cell_type": "code",
      "execution_count": null,
      "metadata": {
        "id": "mE0NyMsy3f7x"
      },
      "outputs": [],
      "source": [
        "norm_data=(pca_df-pca_df.min())/(pca_df.max()-pca_df.min())"
      ]
    },
    {
      "cell_type": "code",
      "execution_count": null,
      "metadata": {
        "colab": {
          "base_uri": "https://localhost:8080/",
          "height": 300
        },
        "id": "lNQJdbo-3f7y",
        "outputId": "90f488d6-3fd1-4198-84e4-497fc59422f8"
      },
      "outputs": [
        {
          "output_type": "execute_result",
          "data": {
            "text/html": [
              "\n",
              "  <div id=\"df-f9986016-776a-4243-88df-e61a98d0203a\">\n",
              "    <div class=\"colab-df-container\">\n",
              "      <div>\n",
              "<style scoped>\n",
              "    .dataframe tbody tr th:only-of-type {\n",
              "        vertical-align: middle;\n",
              "    }\n",
              "\n",
              "    .dataframe tbody tr th {\n",
              "        vertical-align: top;\n",
              "    }\n",
              "\n",
              "    .dataframe thead th {\n",
              "        text-align: right;\n",
              "    }\n",
              "</style>\n",
              "<table border=\"1\" class=\"dataframe\">\n",
              "  <thead>\n",
              "    <tr style=\"text-align: right;\">\n",
              "      <th></th>\n",
              "      <th>PC1</th>\n",
              "      <th>PC2</th>\n",
              "      <th>PC3</th>\n",
              "      <th>PC4</th>\n",
              "      <th>PC5</th>\n",
              "      <th>PC6</th>\n",
              "      <th>PC7</th>\n",
              "      <th>PC8</th>\n",
              "      <th>PC9</th>\n",
              "    </tr>\n",
              "  </thead>\n",
              "  <tbody>\n",
              "    <tr>\n",
              "      <th>count</th>\n",
              "      <td>1340.000000</td>\n",
              "      <td>1340.000000</td>\n",
              "      <td>1340.000000</td>\n",
              "      <td>1340.000000</td>\n",
              "      <td>1340.000000</td>\n",
              "      <td>1340.000000</td>\n",
              "      <td>1340.000000</td>\n",
              "      <td>1340.000000</td>\n",
              "      <td>1340.000000</td>\n",
              "    </tr>\n",
              "    <tr>\n",
              "      <th>mean</th>\n",
              "      <td>0.333080</td>\n",
              "      <td>0.461862</td>\n",
              "      <td>0.411496</td>\n",
              "      <td>0.472232</td>\n",
              "      <td>0.466641</td>\n",
              "      <td>0.404479</td>\n",
              "      <td>0.374822</td>\n",
              "      <td>0.349219</td>\n",
              "      <td>0.399559</td>\n",
              "    </tr>\n",
              "    <tr>\n",
              "      <th>std</th>\n",
              "      <td>0.178144</td>\n",
              "      <td>0.141218</td>\n",
              "      <td>0.171550</td>\n",
              "      <td>0.112118</td>\n",
              "      <td>0.117091</td>\n",
              "      <td>0.107322</td>\n",
              "      <td>0.110916</td>\n",
              "      <td>0.094974</td>\n",
              "      <td>0.090653</td>\n",
              "    </tr>\n",
              "    <tr>\n",
              "      <th>min</th>\n",
              "      <td>0.000000</td>\n",
              "      <td>0.000000</td>\n",
              "      <td>0.000000</td>\n",
              "      <td>0.000000</td>\n",
              "      <td>0.000000</td>\n",
              "      <td>0.000000</td>\n",
              "      <td>0.000000</td>\n",
              "      <td>0.000000</td>\n",
              "      <td>0.000000</td>\n",
              "    </tr>\n",
              "    <tr>\n",
              "      <th>25%</th>\n",
              "      <td>0.192714</td>\n",
              "      <td>0.354078</td>\n",
              "      <td>0.281099</td>\n",
              "      <td>0.406756</td>\n",
              "      <td>0.392710</td>\n",
              "      <td>0.329098</td>\n",
              "      <td>0.304419</td>\n",
              "      <td>0.288755</td>\n",
              "      <td>0.350177</td>\n",
              "    </tr>\n",
              "    <tr>\n",
              "      <th>50%</th>\n",
              "      <td>0.304764</td>\n",
              "      <td>0.462302</td>\n",
              "      <td>0.399077</td>\n",
              "      <td>0.469507</td>\n",
              "      <td>0.467882</td>\n",
              "      <td>0.400173</td>\n",
              "      <td>0.369890</td>\n",
              "      <td>0.348227</td>\n",
              "      <td>0.398771</td>\n",
              "    </tr>\n",
              "    <tr>\n",
              "      <th>75%</th>\n",
              "      <td>0.436739</td>\n",
              "      <td>0.557444</td>\n",
              "      <td>0.521968</td>\n",
              "      <td>0.532348</td>\n",
              "      <td>0.540025</td>\n",
              "      <td>0.472830</td>\n",
              "      <td>0.440884</td>\n",
              "      <td>0.406263</td>\n",
              "      <td>0.445168</td>\n",
              "    </tr>\n",
              "    <tr>\n",
              "      <th>max</th>\n",
              "      <td>1.000000</td>\n",
              "      <td>1.000000</td>\n",
              "      <td>1.000000</td>\n",
              "      <td>1.000000</td>\n",
              "      <td>1.000000</td>\n",
              "      <td>1.000000</td>\n",
              "      <td>1.000000</td>\n",
              "      <td>1.000000</td>\n",
              "      <td>1.000000</td>\n",
              "    </tr>\n",
              "  </tbody>\n",
              "</table>\n",
              "</div>\n",
              "      <button class=\"colab-df-convert\" onclick=\"convertToInteractive('df-f9986016-776a-4243-88df-e61a98d0203a')\"\n",
              "              title=\"Convert this dataframe to an interactive table.\"\n",
              "              style=\"display:none;\">\n",
              "        \n",
              "  <svg xmlns=\"http://www.w3.org/2000/svg\" height=\"24px\"viewBox=\"0 0 24 24\"\n",
              "       width=\"24px\">\n",
              "    <path d=\"M0 0h24v24H0V0z\" fill=\"none\"/>\n",
              "    <path d=\"M18.56 5.44l.94 2.06.94-2.06 2.06-.94-2.06-.94-.94-2.06-.94 2.06-2.06.94zm-11 1L8.5 8.5l.94-2.06 2.06-.94-2.06-.94L8.5 2.5l-.94 2.06-2.06.94zm10 10l.94 2.06.94-2.06 2.06-.94-2.06-.94-.94-2.06-.94 2.06-2.06.94z\"/><path d=\"M17.41 7.96l-1.37-1.37c-.4-.4-.92-.59-1.43-.59-.52 0-1.04.2-1.43.59L10.3 9.45l-7.72 7.72c-.78.78-.78 2.05 0 2.83L4 21.41c.39.39.9.59 1.41.59.51 0 1.02-.2 1.41-.59l7.78-7.78 2.81-2.81c.8-.78.8-2.07 0-2.86zM5.41 20L4 18.59l7.72-7.72 1.47 1.35L5.41 20z\"/>\n",
              "  </svg>\n",
              "      </button>\n",
              "      \n",
              "  <style>\n",
              "    .colab-df-container {\n",
              "      display:flex;\n",
              "      flex-wrap:wrap;\n",
              "      gap: 12px;\n",
              "    }\n",
              "\n",
              "    .colab-df-convert {\n",
              "      background-color: #E8F0FE;\n",
              "      border: none;\n",
              "      border-radius: 50%;\n",
              "      cursor: pointer;\n",
              "      display: none;\n",
              "      fill: #1967D2;\n",
              "      height: 32px;\n",
              "      padding: 0 0 0 0;\n",
              "      width: 32px;\n",
              "    }\n",
              "\n",
              "    .colab-df-convert:hover {\n",
              "      background-color: #E2EBFA;\n",
              "      box-shadow: 0px 1px 2px rgba(60, 64, 67, 0.3), 0px 1px 3px 1px rgba(60, 64, 67, 0.15);\n",
              "      fill: #174EA6;\n",
              "    }\n",
              "\n",
              "    [theme=dark] .colab-df-convert {\n",
              "      background-color: #3B4455;\n",
              "      fill: #D2E3FC;\n",
              "    }\n",
              "\n",
              "    [theme=dark] .colab-df-convert:hover {\n",
              "      background-color: #434B5C;\n",
              "      box-shadow: 0px 1px 3px 1px rgba(0, 0, 0, 0.15);\n",
              "      filter: drop-shadow(0px 1px 2px rgba(0, 0, 0, 0.3));\n",
              "      fill: #FFFFFF;\n",
              "    }\n",
              "  </style>\n",
              "\n",
              "      <script>\n",
              "        const buttonEl =\n",
              "          document.querySelector('#df-f9986016-776a-4243-88df-e61a98d0203a button.colab-df-convert');\n",
              "        buttonEl.style.display =\n",
              "          google.colab.kernel.accessAllowed ? 'block' : 'none';\n",
              "\n",
              "        async function convertToInteractive(key) {\n",
              "          const element = document.querySelector('#df-f9986016-776a-4243-88df-e61a98d0203a');\n",
              "          const dataTable =\n",
              "            await google.colab.kernel.invokeFunction('convertToInteractive',\n",
              "                                                     [key], {});\n",
              "          if (!dataTable) return;\n",
              "\n",
              "          const docLinkHtml = 'Like what you see? Visit the ' +\n",
              "            '<a target=\"_blank\" href=https://colab.research.google.com/notebooks/data_table.ipynb>data table notebook</a>'\n",
              "            + ' to learn more about interactive tables.';\n",
              "          element.innerHTML = '';\n",
              "          dataTable['output_type'] = 'display_data';\n",
              "          await google.colab.output.renderOutput(dataTable, element);\n",
              "          const docLink = document.createElement('div');\n",
              "          docLink.innerHTML = docLinkHtml;\n",
              "          element.appendChild(docLink);\n",
              "        }\n",
              "      </script>\n",
              "    </div>\n",
              "  </div>\n",
              "  "
            ],
            "text/plain": [
              "               PC1          PC2  ...          PC8          PC9\n",
              "count  1340.000000  1340.000000  ...  1340.000000  1340.000000\n",
              "mean      0.333080     0.461862  ...     0.349219     0.399559\n",
              "std       0.178144     0.141218  ...     0.094974     0.090653\n",
              "min       0.000000     0.000000  ...     0.000000     0.000000\n",
              "25%       0.192714     0.354078  ...     0.288755     0.350177\n",
              "50%       0.304764     0.462302  ...     0.348227     0.398771\n",
              "75%       0.436739     0.557444  ...     0.406263     0.445168\n",
              "max       1.000000     1.000000  ...     1.000000     1.000000\n",
              "\n",
              "[8 rows x 9 columns]"
            ]
          },
          "metadata": {},
          "execution_count": 45
        }
      ],
      "source": [
        "norm_data.describe()"
      ]
    },
    {
      "cell_type": "markdown",
      "metadata": {
        "id": "ujLIs3MH3f7y"
      },
      "source": [
        "We will visualize the final histogram of the newly created dataset with principle components."
      ]
    },
    {
      "cell_type": "code",
      "execution_count": null,
      "metadata": {
        "colab": {
          "base_uri": "https://localhost:8080/",
          "height": 680
        },
        "id": "3ehMwa4C3f7z",
        "outputId": "9ecedcb9-0374-4681-f90a-e1adb8ee9b57"
      },
      "outputs": [
        {
          "output_type": "display_data",
          "data": {
            "image/png": "[encoded data removed]",
            "text/plain": [
              "<Figure size 1080x1080 with 9 Axes>"
            ]
          },
          "metadata": {
            "needs_background": "light"
          }
        }
      ],
      "source": [
        "draw_histograms(norm_data,norm_data.columns,5,3)"
      ]
    },
    {
      "cell_type": "markdown",
      "metadata": {
        "id": "xMhzBtKy3f70"
      },
      "source": [
        "From the above visualization it is clear that the data skewness had improved largely after PCA."
      ]
    },
    {
      "cell_type": "markdown",
      "metadata": {
        "id": "0CzWw1TF3f70"
      },
      "source": [
        "We will check the correlation of the dataset now whether any correlated columns left in dataset."
      ]
    },
    {
      "cell_type": "code",
      "execution_count": null,
      "metadata": {
        "colab": {
          "base_uri": "https://localhost:8080/"
        },
        "id": "e8CU4RVB3f71",
        "outputId": "a505ca28-9be1-4da9-90f6-ce1b1dd77ffa"
      },
      "outputs": [
        {
          "output_type": "stream",
          "name": "stdout",
          "text": [
            "Series([], dtype: float64)\n"
          ]
        }
      ],
      "source": [
        "#get correlations of each features in dataset\n",
        "corr_matrix = norm_data.corr()\n",
        "corrPairs = corr_matrix.unstack()\n",
        "ordPairs = corrPairs.sort_values(kind=\"quicksort\").drop_duplicates()\n",
        "positivePairs = ordPairs[ordPairs >0.8 ]\n",
        "positivePairs = positivePairs[ordPairs <1 ]\n",
        "print(positivePairs)\n"
      ]
    },
    {
      "cell_type": "markdown",
      "metadata": {
        "id": "b0ZtnXeT3f72"
      },
      "source": [
        "We can see there is no more correlated columns left."
      ]
    },
    {
      "cell_type": "markdown",
      "metadata": {
        "id": "kiNPomSH3f73"
      },
      "source": [
        "### Data Preparation "
      ]
    },
    {
      "cell_type": "markdown",
      "metadata": {
        "id": "YwJ57g2Z3f74"
      },
      "source": [
        "Selection of training and testing set is done to check our model’s performance on unseen data usually the accuracy which we print for our model is derived on validation set only. We used sklearn’s train_test_split() function to split our data frame to training and testing set."
      ]
    },
    {
      "cell_type": "code",
      "execution_count": null,
      "metadata": {
        "id": "pspJCoZi3f74"
      },
      "outputs": [],
      "source": [
        "from sklearn.model_selection import train_test_split\n",
        "X=norm_data \n",
        "Y=Target"
      ]
    },
    {
      "cell_type": "markdown",
      "metadata": {
        "id": "nmSR8C-n3f75"
      },
      "source": [
        "#### Case 1 : Train = 80 % Test = 20% [ x_train1,y_train1] = 80% ; [ x_test1,y_test1] = 20% "
      ]
    },
    {
      "cell_type": "code",
      "execution_count": null,
      "metadata": {
        "id": "C9yXhjt_3f76"
      },
      "outputs": [],
      "source": [
        "x_train1, x_test1, y_train1, y_test1 = train_test_split(X, Y, test_size=0.2, random_state=42)"
      ]
    },
    {
      "cell_type": "markdown",
      "metadata": {
        "id": "P0L60mlv3f76"
      },
      "source": [
        "#### Case 2 : Train = 10 % Test = 90% [ x_train2,y_train2] = 10% ; [ x_test2,y_test2] = 90% "
      ]
    },
    {
      "cell_type": "code",
      "execution_count": null,
      "metadata": {
        "id": "xjPDQrir3f77"
      },
      "outputs": [],
      "source": [
        "x_train2, x_test2, y_train2, y_test2 = train_test_split(X, Y, test_size=0.1, random_state=42)"
      ]
    },
    {
      "cell_type": "markdown",
      "metadata": {
        "id": "Q73P_ImJ3f78"
      },
      "source": [
        "#### Case 3 : Train = 50 % Test = 50% [ x_train3,y_train3] = 50% ; [ x_test3,y_test3] = 50% "
      ]
    },
    {
      "cell_type": "code",
      "execution_count": null,
      "metadata": {
        "id": "NE2F3_sN3f78"
      },
      "outputs": [],
      "source": [
        "x_train3, x_test3, y_train3, y_test3 = train_test_split(X, Y, test_size=0.5, random_state=42)"
      ]
    },
    {
      "cell_type": "markdown",
      "metadata": {
        "id": "8vvdETOf3f79"
      },
      "source": [
        "<h2>PART B</h2>"
      ]
    },
    {
      "cell_type": "markdown",
      "metadata": {
        "id": "NBk7Iv_d3f7-"
      },
      "source": [
        "### Model Building "
      ]
    },
    {
      "cell_type": "markdown",
      "metadata": {
        "id": "0rR6PLvO3f7-"
      },
      "source": [
        "### Logistic Regression Using gradient descent"
      ]
    },
    {
      "cell_type": "markdown",
      "metadata": {
        "id": "_jxPEMHP3f7_"
      },
      "source": [
        "#### Model Training CASE 1:"
      ]
    },
    {
      "cell_type": "code",
      "execution_count": null,
      "metadata": {
        "id": "WiYIuCtH3f8A"
      },
      "outputs": [],
      "source": [
        "model1 = LogisticRegression(penalty='l2', solver='saga', max_iter=500)    \n",
        "LR1=model1.fit( x_train1, y_train1)"
      ]
    },
    {
      "cell_type": "markdown",
      "metadata": {
        "id": "rJnNaf_J3f8A"
      },
      "source": [
        "#### Checking the Accuracy, F1 score, Recall for CASE 1:"
      ]
    },
    {
      "cell_type": "code",
      "execution_count": null,
      "metadata": {
        "id": "_aLvbV0Y3f8B"
      },
      "outputs": [],
      "source": [
        "# Prediction on Train data\n",
        "y_train_pred1 = LR1.predict( x_train1 ) "
      ]
    },
    {
      "cell_type": "code",
      "execution_count": null,
      "metadata": {
        "colab": {
          "base_uri": "https://localhost:8080/"
        },
        "id": "PtszXLir3f8C",
        "outputId": "d4e56896-b4d5-49e3-ac0e-8d221526843d"
      },
      "outputs": [
        {
          "output_type": "stream",
          "name": "stdout",
          "text": [
            "Accuracy:  0.7098880597014925\n",
            "F1 Score:  0.7838776928422515\n",
            "Recall:  0.851963746223565\n"
          ]
        }
      ],
      "source": [
        "#Testing the Accuracy, F1 score, Recall of Train data\n",
        "print('Accuracy: ',accuracy_score(y_train1,y_train_pred1))\n",
        "print('F1 Score: ',f1_score(y_train1,y_train_pred1))\n",
        "print('Recall: ',recall_score(y_train1,y_train_pred1))"
      ]
    },
    {
      "cell_type": "markdown",
      "metadata": {
        "id": "v3_EGx5V3f8D"
      },
      "source": [
        "#### Balancing the data for CASE 1"
      ]
    },
    {
      "cell_type": "markdown",
      "metadata": {
        "id": "2mKhQYRY3f8D"
      },
      "source": [
        "As the class data is imbalanced (62:37) so we are doing the balancing using SMOT(Synthetic Minority Oversampling Technique, or SMOTE ). We are balancing the dataset by increasing the size of rare samples\n",
        "Rather than getting rid of abundant samples. "
      ]
    },
    {
      "cell_type": "code",
      "execution_count": null,
      "metadata": {
        "colab": {
          "base_uri": "https://localhost:8080/"
        },
        "id": "W3mAhZt-3f8E",
        "outputId": "bedcbe81-034d-4510-ca30-11aab7fc25a5"
      },
      "outputs": [
        {
          "output_type": "stream",
          "name": "stdout",
          "text": [
            "Original dataset shape Counter({1: 662, 0: 410})\n",
            "Resample dataset shape Counter({0: 662, 1: 662})\n"
          ]
        }
      ],
      "source": [
        "x_train1_new,y_train1_new = SMOTE().fit_resample(x_train1,y_train1)\n",
        "print('Original dataset shape', Counter(y_train1))\n",
        "print('Resample dataset shape', Counter(y_train1_new))"
      ]
    },
    {
      "cell_type": "code",
      "execution_count": null,
      "metadata": {
        "colab": {
          "base_uri": "https://localhost:8080/"
        },
        "id": "BiSvbJLb3f8F",
        "outputId": "9be4159e-2335-4b30-e277-4315f5a2979b"
      },
      "outputs": [
        {
          "output_type": "stream",
          "name": "stdout",
          "text": [
            "Accuracy:  0.6918429003021148\n",
            "F1 Score:  0.6890243902439024\n",
            "Recall:  0.6827794561933535\n"
          ]
        }
      ],
      "source": [
        "# Prediction on Train data\n",
        "model1_new = LogisticRegression(penalty='l2', solver='saga', max_iter=500)    \n",
        "LR1_new=model1_new.fit( x_train1_new, y_train1_new)\n",
        "y_train_pred1_new = LR1_new.predict( x_train1_new ) \n",
        "\n",
        "print('Accuracy: ',accuracy_score(y_train1_new,y_train_pred1_new))\n",
        "print('F1 Score: ',f1_score(y_train1_new,y_train_pred1_new))\n",
        "print('Recall: ',recall_score(y_train1_new,y_train_pred1_new))"
      ]
    },
    {
      "cell_type": "markdown",
      "metadata": {
        "id": "EZfOow1x3f8G"
      },
      "source": [
        "#### Model Training CASE 2:"
      ]
    },
    {
      "cell_type": "code",
      "execution_count": null,
      "metadata": {
        "id": "wEYrb4M73f8H"
      },
      "outputs": [],
      "source": [
        "model2 = LogisticRegression(max_iter=500)    \n",
        "LR2=model2.fit( x_train2, y_train2)"
      ]
    },
    {
      "cell_type": "markdown",
      "metadata": {
        "id": "LlmksTV33f8H"
      },
      "source": [
        "#### Checking the Accuracy, F1 score, Recall for CASE 2:"
      ]
    },
    {
      "cell_type": "code",
      "execution_count": null,
      "metadata": {
        "id": "hPBXWVsR3f8I"
      },
      "outputs": [],
      "source": [
        "# Prediction on Train data\n",
        "y_train_pred2 = LR2.predict( x_train2 ) "
      ]
    },
    {
      "cell_type": "code",
      "execution_count": null,
      "metadata": {
        "colab": {
          "base_uri": "https://localhost:8080/"
        },
        "id": "KqNNa4jh3f8J",
        "outputId": "3f1df4ff-886f-45eb-e458-2d87e56d25e6"
      },
      "outputs": [
        {
          "output_type": "stream",
          "name": "stdout",
          "text": [
            "Accuracy:  0.7106135986733002\n",
            "F1 Score:  0.7852307692307693\n",
            "Recall:  0.8495339547270306\n"
          ]
        }
      ],
      "source": [
        "#Testing the Accuracy, F1 score, Recall of Train data\n",
        "print('Accuracy: ',accuracy_score(y_train2,y_train_pred2))\n",
        "print('F1 Score: ',f1_score(y_train2,y_train_pred2))\n",
        "print('Recall: ',recall_score(y_train2,y_train_pred2))"
      ]
    },
    {
      "cell_type": "markdown",
      "metadata": {
        "id": "gCjuQv5P3f8K"
      },
      "source": [
        "#### Balancing the data for CASE 2"
      ]
    },
    {
      "cell_type": "code",
      "execution_count": null,
      "metadata": {
        "colab": {
          "base_uri": "https://localhost:8080/"
        },
        "id": "pVmBsKwS3f8L",
        "outputId": "579d26d0-2f1f-47be-edf5-dba056d80708"
      },
      "outputs": [
        {
          "output_type": "stream",
          "name": "stdout",
          "text": [
            "Original dataset shape Counter({1: 751, 0: 455})\n",
            "Resample dataset shape Counter({0: 751, 1: 751})\n"
          ]
        }
      ],
      "source": [
        "x_train2_new,y_train2_new = SMOTE().fit_resample(x_train2,y_train2)\n",
        "print('Original dataset shape', Counter(y_train2))\n",
        "print('Resample dataset shape', Counter(y_train2_new))"
      ]
    },
    {
      "cell_type": "code",
      "execution_count": null,
      "metadata": {
        "colab": {
          "base_uri": "https://localhost:8080/"
        },
        "id": "dQ0EIzTR3f8M",
        "outputId": "0e5b0160-b543-4838-e8d8-9211faa6f1fe"
      },
      "outputs": [
        {
          "output_type": "stream",
          "name": "stdout",
          "text": [
            "Accuracy:  0.6857523302263648\n",
            "F1 Score:  0.6823687752355317\n",
            "Recall:  0.6750998668442078\n"
          ]
        }
      ],
      "source": [
        "# Prediction on Train data\n",
        "model2_new = LogisticRegression(penalty='l2', solver='saga', max_iter=500)    \n",
        "LR2_new=model2_new.fit( x_train2_new, y_train2_new)\n",
        "y_train_pred2_new = LR2_new.predict( x_train2_new ) \n",
        "\n",
        "print('Accuracy: ',accuracy_score(y_train2_new,y_train_pred2_new))\n",
        "print('F1 Score: ',f1_score(y_train2_new,y_train_pred2_new))\n",
        "print('Recall: ',recall_score(y_train2_new,y_train_pred2_new))"
      ]
    },
    {
      "cell_type": "markdown",
      "metadata": {
        "id": "_Vs9VJd73f8N"
      },
      "source": [
        "#### Model Training CASE 3:"
      ]
    },
    {
      "cell_type": "code",
      "execution_count": null,
      "metadata": {
        "id": "9wKR0EPg3f8O"
      },
      "outputs": [],
      "source": [
        "model3 = LogisticRegression(max_iter=500)    \n",
        "LR3=model3.fit( x_train3, y_train3)"
      ]
    },
    {
      "cell_type": "markdown",
      "metadata": {
        "id": "DWGdHmKe3f8O"
      },
      "source": [
        "#### Checking the Accuracy, F1 score, Recall for CASE 3:"
      ]
    },
    {
      "cell_type": "code",
      "execution_count": null,
      "metadata": {
        "id": "cdAUoXaf3f8P"
      },
      "outputs": [],
      "source": [
        "# Prediction on Train data\n",
        "y_train_pred3 = model3.predict( x_train3 ) "
      ]
    },
    {
      "cell_type": "code",
      "execution_count": null,
      "metadata": {
        "colab": {
          "base_uri": "https://localhost:8080/"
        },
        "id": "zB_q8ay33f8Q",
        "outputId": "641e971d-4900-4287-9140-152801de436b"
      },
      "outputs": [
        {
          "output_type": "stream",
          "name": "stdout",
          "text": [
            "Accuracy:  0.7119402985074627\n",
            "F1 Score:  0.7974816369359916\n",
            "Recall:  0.8837209302325582\n"
          ]
        }
      ],
      "source": [
        "#Testing the Accuracy, F1 score, Recall of Train data\n",
        "print('Accuracy: ',accuracy_score(y_train3,y_train_pred3))\n",
        "print('F1 Score: ',f1_score(y_train3,y_train_pred3))\n",
        "print('Recall: ',recall_score(y_train3,y_train_pred3))"
      ]
    },
    {
      "cell_type": "markdown",
      "metadata": {
        "id": "NCK46tG-3f8R"
      },
      "source": [
        "#### Balancing the data for CASE 3"
      ]
    },
    {
      "cell_type": "code",
      "execution_count": null,
      "metadata": {
        "colab": {
          "base_uri": "https://localhost:8080/"
        },
        "id": "AqKdA3NS3f8R",
        "outputId": "4ac70039-247d-4c68-90f1-b9b12ad6e9a8"
      },
      "outputs": [
        {
          "output_type": "stream",
          "name": "stdout",
          "text": [
            "Original dataset shape Counter({1: 430, 0: 240})\n",
            "Resample dataset shape Counter({1: 430, 0: 430})\n"
          ]
        }
      ],
      "source": [
        "x_train3_new,y_train3_new = SMOTE().fit_resample(x_train3,y_train3)\n",
        "print('Original dataset shape', Counter(y_train3))\n",
        "print('Resample dataset shape', Counter(y_train3_new))"
      ]
    },
    {
      "cell_type": "code",
      "execution_count": null,
      "metadata": {
        "colab": {
          "base_uri": "https://localhost:8080/"
        },
        "id": "lFi4te7j3f8S",
        "outputId": "13fb7e27-5325-4f3d-e9fa-41f6d848c302"
      },
      "outputs": [
        {
          "output_type": "stream",
          "name": "stdout",
          "text": [
            "Accuracy:  0.7\n",
            "F1 Score:  0.693586698337292\n",
            "Recall:  0.6790697674418604\n"
          ]
        }
      ],
      "source": [
        "# Prediction on Train data\n",
        "model3_new = LogisticRegression(penalty='l2', solver='saga', max_iter=500)    \n",
        "LR3_new=model3_new.fit( x_train3_new, y_train3_new)\n",
        "y_train_pred3_new = LR3_new.predict( x_train3_new ) \n",
        "\n",
        "print('Accuracy: ',accuracy_score(y_train3_new,y_train_pred3_new))\n",
        "print('F1 Score: ',f1_score(y_train3_new,y_train_pred3_new))\n",
        "print('Recall: ',recall_score(y_train3_new,y_train_pred3_new))"
      ]
    },
    {
      "cell_type": "markdown",
      "metadata": {
        "id": "cyccFtOH3f8T"
      },
      "source": [
        "#### Observation\n",
        "-We are doing this balancing on all cases but our accuracy didn't improve for training data."
      ]
    },
    {
      "cell_type": "markdown",
      "metadata": {
        "id": "GBiBj1hW3f8U"
      },
      "source": [
        "### Justification of using L2 Loss Function in Gradient Descent"
      ]
    },
    {
      "cell_type": "markdown",
      "metadata": {
        "id": "kwMGbJlb3f8U"
      },
      "source": [
        "The reason to used the L2 Loss function as it tries to  disperse the error terms in all the weights that leads to more accurate customized final models and \n",
        "also helps to prevent the problem of overfitting, makes the model more robust, and decreases the complexity of a model and while using the L2 regularization for calculating the loss function in the gradient calculation step, \n",
        "the loss function tries to minimize the loss by subtracting it from the average of the data distribution."
      ]
    },
    {
      "cell_type": "markdown",
      "metadata": {
        "id": "8XFHOCzs3f8V"
      },
      "source": [
        "We have used the first order Gradient Descent optimization algorithm. This means it only takes into account the first derivative when performing the updates on the parameters.\n",
        "As our dataset is not large so we haven't explore the other methods of Gradient Descent and its not required."
      ]
    },
    {
      "cell_type": "markdown",
      "metadata": {
        "id": "Y5XE4jYg3f8W"
      },
      "source": [
        "### Logistic Regression Using maximum likelihood estimate"
      ]
    },
    {
      "cell_type": "markdown",
      "metadata": {
        "id": "3T06qu973f8W"
      },
      "source": [
        "#### Model Training CASE 1:"
      ]
    },
    {
      "cell_type": "code",
      "execution_count": null,
      "metadata": {
        "scrolled": false,
        "colab": {
          "base_uri": "https://localhost:8080/",
          "height": 453
        },
        "id": "EP8Hxx4u3f8X",
        "outputId": "9a7adc6c-160e-445a-885e-4f618b4bf440"
      },
      "outputs": [
        {
          "output_type": "stream",
          "name": "stdout",
          "text": [
            "Optimization terminated successfully.\n",
            "         Current function value: 0.574047\n",
            "         Iterations 6\n"
          ]
        },
        {
          "output_type": "execute_result",
          "data": {
            "text/html": [
              "<table class=\"simpletable\">\n",
              "<caption>Logit Regression Results</caption>\n",
              "<tr>\n",
              "  <th>Dep. Variable:</th>      <td>TARGET_5Yrs</td>   <th>  No. Observations:  </th>  <td>  1072</td>  \n",
              "</tr>\n",
              "<tr>\n",
              "  <th>Model:</th>                 <td>Logit</td>      <th>  Df Residuals:      </th>  <td>  1063</td>  \n",
              "</tr>\n",
              "<tr>\n",
              "  <th>Method:</th>                 <td>MLE</td>       <th>  Df Model:          </th>  <td>     8</td>  \n",
              "</tr>\n",
              "<tr>\n",
              "  <th>Date:</th>            <td>Sat, 08 Jan 2022</td> <th>  Pseudo R-squ.:     </th>  <td>0.1371</td>  \n",
              "</tr>\n",
              "<tr>\n",
              "  <th>Time:</th>                <td>04:18:14</td>     <th>  Log-Likelihood:    </th> <td> -615.38</td> \n",
              "</tr>\n",
              "<tr>\n",
              "  <th>converged:</th>             <td>True</td>       <th>  LL-Null:           </th> <td> -713.16</td> \n",
              "</tr>\n",
              "<tr>\n",
              "  <th>Covariance Type:</th>     <td>nonrobust</td>    <th>  LLR p-value:       </th> <td>5.517e-38</td>\n",
              "</tr>\n",
              "</table>\n",
              "<table class=\"simpletable\">\n",
              "<tr>\n",
              "   <td></td>      <th>coef</th>     <th>std err</th>      <th>z</th>      <th>P>|z|</th>  <th>[0.025</th>    <th>0.975]</th>  \n",
              "</tr>\n",
              "<tr>\n",
              "  <th>PC1</th> <td>    4.9580</td> <td>    0.468</td> <td>   10.591</td> <td> 0.000</td> <td>    4.040</td> <td>    5.876</td>\n",
              "</tr>\n",
              "<tr>\n",
              "  <th>PC2</th> <td>   -1.7115</td> <td>    0.506</td> <td>   -3.383</td> <td> 0.001</td> <td>   -2.703</td> <td>   -0.720</td>\n",
              "</tr>\n",
              "<tr>\n",
              "  <th>PC3</th> <td>   -2.0830</td> <td>    0.412</td> <td>   -5.051</td> <td> 0.000</td> <td>   -2.891</td> <td>   -1.275</td>\n",
              "</tr>\n",
              "<tr>\n",
              "  <th>PC4</th> <td>   -0.3579</td> <td>    0.600</td> <td>   -0.597</td> <td> 0.551</td> <td>   -1.533</td> <td>    0.817</td>\n",
              "</tr>\n",
              "<tr>\n",
              "  <th>PC5</th> <td>   -0.3526</td> <td>    0.584</td> <td>   -0.603</td> <td> 0.546</td> <td>   -1.498</td> <td>    0.793</td>\n",
              "</tr>\n",
              "<tr>\n",
              "  <th>PC6</th> <td>    0.2686</td> <td>    0.632</td> <td>    0.425</td> <td> 0.671</td> <td>   -0.970</td> <td>    1.507</td>\n",
              "</tr>\n",
              "<tr>\n",
              "  <th>PC7</th> <td>    1.2478</td> <td>    0.592</td> <td>    2.106</td> <td> 0.035</td> <td>    0.087</td> <td>    2.409</td>\n",
              "</tr>\n",
              "<tr>\n",
              "  <th>PC8</th> <td>   -0.7931</td> <td>    0.694</td> <td>   -1.142</td> <td> 0.253</td> <td>   -2.154</td> <td>    0.568</td>\n",
              "</tr>\n",
              "<tr>\n",
              "  <th>PC9</th> <td>    1.5325</td> <td>    0.779</td> <td>    1.968</td> <td> 0.049</td> <td>    0.006</td> <td>    3.059</td>\n",
              "</tr>\n",
              "</table>"
            ],
            "text/plain": [
              "<class 'statsmodels.iolib.summary.Summary'>\n",
              "\"\"\"\n",
              "                           Logit Regression Results                           \n",
              "==============================================================================\n",
              "Dep. Variable:            TARGET_5Yrs   No. Observations:                 1072\n",
              "Model:                          Logit   Df Residuals:                     1063\n",
              "Method:                           MLE   Df Model:                            8\n",
              "Date:                Sat, 08 Jan 2022   Pseudo R-squ.:                  0.1371\n",
              "Time:                        04:18:14   Log-Likelihood:                -615.38\n",
              "converged:                       True   LL-Null:                       -713.16\n",
              "Covariance Type:            nonrobust   LLR p-value:                 5.517e-38\n",
              "==============================================================================\n",
              "                 coef    std err          z      P>|z|      [0.025      0.975]\n",
              "------------------------------------------------------------------------------\n",
              "PC1            4.9580      0.468     10.591      0.000       4.040       5.876\n",
              "PC2           -1.7115      0.506     -3.383      0.001      -2.703      -0.720\n",
              "PC3           -2.0830      0.412     -5.051      0.000      -2.891      -1.275\n",
              "PC4           -0.3579      0.600     -0.597      0.551      -1.533       0.817\n",
              "PC5           -0.3526      0.584     -0.603      0.546      -1.498       0.793\n",
              "PC6            0.2686      0.632      0.425      0.671      -0.970       1.507\n",
              "PC7            1.2478      0.592      2.106      0.035       0.087       2.409\n",
              "PC8           -0.7931      0.694     -1.142      0.253      -2.154       0.568\n",
              "PC9            1.5325      0.779      1.968      0.049       0.006       3.059\n",
              "==============================================================================\n",
              "\"\"\""
            ]
          },
          "metadata": {},
          "execution_count": 85
        }
      ],
      "source": [
        "model1_mle = sm.Logit(y_train1,x_train1)\n",
        "result1 = model1_mle.fit()\n",
        "result1.summary()"
      ]
    },
    {
      "cell_type": "markdown",
      "metadata": {
        "id": "XA-s1OTN3f8Y"
      },
      "source": [
        "#### Checking the Accuracy, F1 score, Recall for CASE 1:"
      ]
    },
    {
      "cell_type": "code",
      "execution_count": null,
      "metadata": {
        "id": "iClAk52G3f8Y"
      },
      "outputs": [],
      "source": [
        "#Prediction on Train data\n",
        "y_train_pred1_mle = result1.predict(x_train1)\n",
        "rounded_y_train_pred1_mle = list(map(round, y_train_pred1_mle))"
      ]
    },
    {
      "cell_type": "code",
      "execution_count": null,
      "metadata": {
        "colab": {
          "base_uri": "https://localhost:8080/"
        },
        "id": "AK2Y56PN3f8Z",
        "outputId": "1d023e74-edea-4cbe-fbc6-79fa37e5f848"
      },
      "outputs": [
        {
          "output_type": "stream",
          "name": "stdout",
          "text": [
            "Accuracy:  0.6930970149253731\n",
            "F1 Score:  0.7668320340184267\n",
            "Recall:  0.8172205438066465\n"
          ]
        }
      ],
      "source": [
        "#Testing the Accuracy, F1 score, Recall of Train data\n",
        "print('Accuracy: ',accuracy_score(y_train1,rounded_y_train_pred1_mle))\n",
        "print('F1 Score: ',f1_score(y_train1,rounded_y_train_pred1_mle))\n",
        "print('Recall: ',recall_score(y_train1,rounded_y_train_pred1_mle))"
      ]
    },
    {
      "cell_type": "markdown",
      "metadata": {
        "id": "mz3oqOdv3f8b"
      },
      "source": [
        "#### Balancing the data for CASE 1"
      ]
    },
    {
      "cell_type": "code",
      "execution_count": null,
      "metadata": {
        "colab": {
          "base_uri": "https://localhost:8080/"
        },
        "id": "q_0etvKF3f8b",
        "outputId": "8c14ff04-3e7d-463f-b384-86703a047782"
      },
      "outputs": [
        {
          "output_type": "stream",
          "name": "stdout",
          "text": [
            "Optimization terminated successfully.\n",
            "         Current function value: 0.591248\n",
            "         Iterations 6\n"
          ]
        }
      ],
      "source": [
        "# Prediction on Train data\n",
        "model1_mle_new = sm.Logit(y_train1_new,x_train1_new)\n",
        "result1_new = model1_mle_new.fit()\n",
        "#Prediction on Train data\n",
        "y_train_pred1_mle_new = result1_new.predict(x_train1_new)\n",
        "rounded_y_train_pred1_mle_new = list(map(round, y_train_pred1_mle_new))"
      ]
    },
    {
      "cell_type": "code",
      "execution_count": null,
      "metadata": {
        "colab": {
          "base_uri": "https://localhost:8080/"
        },
        "id": "OH0ThSnu3f8c",
        "outputId": "0627dd86-bd3f-4d5b-a1ab-4d86dc7f13e7"
      },
      "outputs": [
        {
          "output_type": "stream",
          "name": "stdout",
          "text": [
            "Accuracy:  0.6842900302114804\n",
            "F1 Score:  0.6823708206686931\n",
            "Recall:  0.6782477341389728\n"
          ]
        }
      ],
      "source": [
        "#Testing the Accuracy, F1 score, Recall of Train data\n",
        "print('Accuracy: ',accuracy_score(y_train1_new,rounded_y_train_pred1_mle_new))\n",
        "print('F1 Score: ',f1_score(y_train1_new,rounded_y_train_pred1_mle_new))\n",
        "print('Recall: ',recall_score(y_train1_new,rounded_y_train_pred1_mle_new))"
      ]
    },
    {
      "cell_type": "markdown",
      "metadata": {
        "id": "mO-LdcKO3f8d"
      },
      "source": [
        "#### Model Training CASE 2:"
      ]
    },
    {
      "cell_type": "code",
      "execution_count": null,
      "metadata": {
        "colab": {
          "base_uri": "https://localhost:8080/",
          "height": 453
        },
        "id": "-E4pNiyN3f8e",
        "outputId": "e96cc0f4-9e5d-4d48-b88a-b66e615e8de4"
      },
      "outputs": [
        {
          "output_type": "stream",
          "name": "stdout",
          "text": [
            "Optimization terminated successfully.\n",
            "         Current function value: 0.567449\n",
            "         Iterations 6\n"
          ]
        },
        {
          "output_type": "execute_result",
          "data": {
            "text/html": [
              "<table class=\"simpletable\">\n",
              "<caption>Logit Regression Results</caption>\n",
              "<tr>\n",
              "  <th>Dep. Variable:</th>      <td>TARGET_5Yrs</td>   <th>  No. Observations:  </th>  <td>  1206</td>  \n",
              "</tr>\n",
              "<tr>\n",
              "  <th>Model:</th>                 <td>Logit</td>      <th>  Df Residuals:      </th>  <td>  1197</td>  \n",
              "</tr>\n",
              "<tr>\n",
              "  <th>Method:</th>                 <td>MLE</td>       <th>  Df Model:          </th>  <td>     8</td>  \n",
              "</tr>\n",
              "<tr>\n",
              "  <th>Date:</th>            <td>Sat, 08 Jan 2022</td> <th>  Pseudo R-squ.:     </th>  <td>0.1438</td>  \n",
              "</tr>\n",
              "<tr>\n",
              "  <th>Time:</th>                <td>04:17:58</td>     <th>  Log-Likelihood:    </th> <td> -684.34</td> \n",
              "</tr>\n",
              "<tr>\n",
              "  <th>converged:</th>             <td>True</td>       <th>  LL-Null:           </th> <td> -799.24</td> \n",
              "</tr>\n",
              "<tr>\n",
              "  <th>Covariance Type:</th>     <td>nonrobust</td>    <th>  LLR p-value:       </th> <td>3.286e-45</td>\n",
              "</tr>\n",
              "</table>\n",
              "<table class=\"simpletable\">\n",
              "<tr>\n",
              "   <td></td>      <th>coef</th>     <th>std err</th>      <th>z</th>      <th>P>|z|</th>  <th>[0.025</th>    <th>0.975]</th>  \n",
              "</tr>\n",
              "<tr>\n",
              "  <th>PC1</th> <td>    5.3133</td> <td>    0.460</td> <td>   11.542</td> <td> 0.000</td> <td>    4.411</td> <td>    6.216</td>\n",
              "</tr>\n",
              "<tr>\n",
              "  <th>PC2</th> <td>   -1.9386</td> <td>    0.483</td> <td>   -4.015</td> <td> 0.000</td> <td>   -2.885</td> <td>   -0.992</td>\n",
              "</tr>\n",
              "<tr>\n",
              "  <th>PC3</th> <td>   -1.8319</td> <td>    0.394</td> <td>   -4.655</td> <td> 0.000</td> <td>   -2.603</td> <td>   -1.061</td>\n",
              "</tr>\n",
              "<tr>\n",
              "  <th>PC4</th> <td>   -0.4145</td> <td>    0.571</td> <td>   -0.726</td> <td> 0.468</td> <td>   -1.533</td> <td>    0.704</td>\n",
              "</tr>\n",
              "<tr>\n",
              "  <th>PC5</th> <td>   -0.7300</td> <td>    0.562</td> <td>   -1.300</td> <td> 0.194</td> <td>   -1.831</td> <td>    0.371</td>\n",
              "</tr>\n",
              "<tr>\n",
              "  <th>PC6</th> <td>    0.2351</td> <td>    0.610</td> <td>    0.386</td> <td> 0.700</td> <td>   -0.960</td> <td>    1.430</td>\n",
              "</tr>\n",
              "<tr>\n",
              "  <th>PC7</th> <td>    1.2470</td> <td>    0.565</td> <td>    2.207</td> <td> 0.027</td> <td>    0.140</td> <td>    2.354</td>\n",
              "</tr>\n",
              "<tr>\n",
              "  <th>PC8</th> <td>   -0.5836</td> <td>    0.662</td> <td>   -0.882</td> <td> 0.378</td> <td>   -1.881</td> <td>    0.713</td>\n",
              "</tr>\n",
              "<tr>\n",
              "  <th>PC9</th> <td>    1.6680</td> <td>    0.752</td> <td>    2.218</td> <td> 0.027</td> <td>    0.194</td> <td>    3.142</td>\n",
              "</tr>\n",
              "</table>"
            ],
            "text/plain": [
              "<class 'statsmodels.iolib.summary.Summary'>\n",
              "\"\"\"\n",
              "                           Logit Regression Results                           \n",
              "==============================================================================\n",
              "Dep. Variable:            TARGET_5Yrs   No. Observations:                 1206\n",
              "Model:                          Logit   Df Residuals:                     1197\n",
              "Method:                           MLE   Df Model:                            8\n",
              "Date:                Sat, 08 Jan 2022   Pseudo R-squ.:                  0.1438\n",
              "Time:                        04:17:58   Log-Likelihood:                -684.34\n",
              "converged:                       True   LL-Null:                       -799.24\n",
              "Covariance Type:            nonrobust   LLR p-value:                 3.286e-45\n",
              "==============================================================================\n",
              "                 coef    std err          z      P>|z|      [0.025      0.975]\n",
              "------------------------------------------------------------------------------\n",
              "PC1            5.3133      0.460     11.542      0.000       4.411       6.216\n",
              "PC2           -1.9386      0.483     -4.015      0.000      -2.885      -0.992\n",
              "PC3           -1.8319      0.394     -4.655      0.000      -2.603      -1.061\n",
              "PC4           -0.4145      0.571     -0.726      0.468      -1.533       0.704\n",
              "PC5           -0.7300      0.562     -1.300      0.194      -1.831       0.371\n",
              "PC6            0.2351      0.610      0.386      0.700      -0.960       1.430\n",
              "PC7            1.2470      0.565      2.207      0.027       0.140       2.354\n",
              "PC8           -0.5836      0.662     -0.882      0.378      -1.881       0.713\n",
              "PC9            1.6680      0.752      2.218      0.027       0.194       3.142\n",
              "==============================================================================\n",
              "\"\"\""
            ]
          },
          "metadata": {},
          "execution_count": 77
        }
      ],
      "source": [
        "model2_mle = sm.Logit(y_train2,x_train2)\n",
        "result2 = model2_mle.fit()\n",
        "result2.summary()"
      ]
    },
    {
      "cell_type": "markdown",
      "metadata": {
        "id": "rdiMLkOu3f8f"
      },
      "source": [
        "#### Checking the Accuracy, F1 score, Recall for CASE 2:"
      ]
    },
    {
      "cell_type": "code",
      "execution_count": null,
      "metadata": {
        "colab": {
          "base_uri": "https://localhost:8080/"
        },
        "id": "5RaRIffD3f8f",
        "outputId": "a5315e16-7b04-4837-9cfc-19168b3376d4"
      },
      "outputs": [
        {
          "output_type": "stream",
          "name": "stdout",
          "text": [
            "Accuracy:  0.7014925373134329\n",
            "F1 Score:  0.7744360902255639\n",
            "Recall:  0.8229027962716379\n"
          ]
        }
      ],
      "source": [
        "#Prediction on Train data\n",
        "y_train_pred2_mle = result2.predict(x_train2)\n",
        "rounded_y_train_pred2_mle = list(map(round, y_train_pred2_mle))\n",
        "\n",
        "#Testing the Accuracy, F1 score, Recall of Train data\n",
        "print('Accuracy: ',accuracy_score(y_train2,rounded_y_train_pred2_mle))\n",
        "print('F1 Score: ',f1_score(y_train2,rounded_y_train_pred2_mle))\n",
        "print('Recall: ',recall_score(y_train2,rounded_y_train_pred2_mle))"
      ]
    },
    {
      "cell_type": "markdown",
      "metadata": {
        "id": "kDhGqPTZ3f8g"
      },
      "source": [
        "#### Balancing the data for CASE 2"
      ]
    },
    {
      "cell_type": "code",
      "execution_count": null,
      "metadata": {
        "colab": {
          "base_uri": "https://localhost:8080/"
        },
        "id": "ystC9rC73f8h",
        "outputId": "6e7bb474-e0f4-42d3-84ad-6c2e030569e4"
      },
      "outputs": [
        {
          "output_type": "stream",
          "name": "stdout",
          "text": [
            "Optimization terminated successfully.\n",
            "         Current function value: 0.587898\n",
            "         Iterations 6\n"
          ]
        }
      ],
      "source": [
        "# Prediction on Train data\n",
        "model2_mle_new = sm.Logit(y_train2_new,x_train2_new)\n",
        "result2_new = model2_mle_new.fit()\n",
        "#Prediction on Train data\n",
        "y_train_pred2_mle_new = result2_new.predict(x_train2_new)\n",
        "rounded_y_train_pred2_mle_new = list(map(round, y_train_pred2_mle_new))"
      ]
    },
    {
      "cell_type": "code",
      "execution_count": null,
      "metadata": {
        "colab": {
          "base_uri": "https://localhost:8080/"
        },
        "id": "E8HUtpRT3f8i",
        "outputId": "71cdc18a-2109-418e-9af3-1cd228ebf00e"
      },
      "outputs": [
        {
          "output_type": "stream",
          "name": "stdout",
          "text": [
            "Accuracy:  0.6857523302263648\n",
            "F1 Score:  0.6806495263870095\n",
            "Recall:  0.6697736351531292\n"
          ]
        }
      ],
      "source": [
        "#Testing the Accuracy, F1 score, Recall of Train data\n",
        "print('Accuracy: ',accuracy_score(y_train2_new,rounded_y_train_pred2_mle_new))\n",
        "print('F1 Score: ',f1_score(y_train2_new,rounded_y_train_pred2_mle_new))\n",
        "print('Recall: ',recall_score(y_train2_new,rounded_y_train_pred2_mle_new))"
      ]
    },
    {
      "cell_type": "markdown",
      "metadata": {
        "id": "rpah2IwV3f8j"
      },
      "source": [
        "#### Model Training CASE 3:"
      ]
    },
    {
      "cell_type": "code",
      "execution_count": null,
      "metadata": {
        "colab": {
          "base_uri": "https://localhost:8080/",
          "height": 453
        },
        "id": "i3tL3m333f8k",
        "outputId": "5036eb4b-5044-4ce1-c5bf-2d285bfb92eb"
      },
      "outputs": [
        {
          "output_type": "stream",
          "name": "stdout",
          "text": [
            "Optimization terminated successfully.\n",
            "         Current function value: 0.562123\n",
            "         Iterations 6\n"
          ]
        },
        {
          "output_type": "execute_result",
          "data": {
            "text/html": [
              "<table class=\"simpletable\">\n",
              "<caption>Logit Regression Results</caption>\n",
              "<tr>\n",
              "  <th>Dep. Variable:</th>      <td>TARGET_5Yrs</td>   <th>  No. Observations:  </th>  <td>   670</td>  \n",
              "</tr>\n",
              "<tr>\n",
              "  <th>Model:</th>                 <td>Logit</td>      <th>  Df Residuals:      </th>  <td>   661</td>  \n",
              "</tr>\n",
              "<tr>\n",
              "  <th>Method:</th>                 <td>MLE</td>       <th>  Df Model:          </th>  <td>     8</td>  \n",
              "</tr>\n",
              "<tr>\n",
              "  <th>Date:</th>            <td>Sat, 08 Jan 2022</td> <th>  Pseudo R-squ.:     </th>  <td>0.1384</td>  \n",
              "</tr>\n",
              "<tr>\n",
              "  <th>Time:</th>                <td>04:17:58</td>     <th>  Log-Likelihood:    </th> <td> -376.62</td> \n",
              "</tr>\n",
              "<tr>\n",
              "  <th>converged:</th>             <td>True</td>       <th>  LL-Null:           </th> <td> -437.10</td> \n",
              "</tr>\n",
              "<tr>\n",
              "  <th>Covariance Type:</th>     <td>nonrobust</td>    <th>  LLR p-value:       </th> <td>2.115e-22</td>\n",
              "</tr>\n",
              "</table>\n",
              "<table class=\"simpletable\">\n",
              "<tr>\n",
              "   <td></td>      <th>coef</th>     <th>std err</th>      <th>z</th>      <th>P>|z|</th>  <th>[0.025</th>    <th>0.975]</th>  \n",
              "</tr>\n",
              "<tr>\n",
              "  <th>PC1</th> <td>    4.5450</td> <td>    0.569</td> <td>    7.991</td> <td> 0.000</td> <td>    3.430</td> <td>    5.660</td>\n",
              "</tr>\n",
              "<tr>\n",
              "  <th>PC2</th> <td>   -1.3803</td> <td>    0.627</td> <td>   -2.201</td> <td> 0.028</td> <td>   -2.609</td> <td>   -0.151</td>\n",
              "</tr>\n",
              "<tr>\n",
              "  <th>PC3</th> <td>   -2.7807</td> <td>    0.539</td> <td>   -5.160</td> <td> 0.000</td> <td>   -3.837</td> <td>   -1.724</td>\n",
              "</tr>\n",
              "<tr>\n",
              "  <th>PC4</th> <td>   -0.2796</td> <td>    0.760</td> <td>   -0.368</td> <td> 0.713</td> <td>   -1.769</td> <td>    1.210</td>\n",
              "</tr>\n",
              "<tr>\n",
              "  <th>PC5</th> <td>    0.1863</td> <td>    0.771</td> <td>    0.242</td> <td> 0.809</td> <td>   -1.325</td> <td>    1.698</td>\n",
              "</tr>\n",
              "<tr>\n",
              "  <th>PC6</th> <td>    0.0357</td> <td>    0.844</td> <td>    0.042</td> <td> 0.966</td> <td>   -1.618</td> <td>    1.689</td>\n",
              "</tr>\n",
              "<tr>\n",
              "  <th>PC7</th> <td>    1.5847</td> <td>    0.742</td> <td>    2.134</td> <td> 0.033</td> <td>    0.130</td> <td>    3.040</td>\n",
              "</tr>\n",
              "<tr>\n",
              "  <th>PC8</th> <td>   -0.5102</td> <td>    0.851</td> <td>   -0.600</td> <td> 0.549</td> <td>   -2.178</td> <td>    1.158</td>\n",
              "</tr>\n",
              "<tr>\n",
              "  <th>PC9</th> <td>    1.4031</td> <td>    0.957</td> <td>    1.466</td> <td> 0.143</td> <td>   -0.473</td> <td>    3.279</td>\n",
              "</tr>\n",
              "</table>"
            ],
            "text/plain": [
              "<class 'statsmodels.iolib.summary.Summary'>\n",
              "\"\"\"\n",
              "                           Logit Regression Results                           \n",
              "==============================================================================\n",
              "Dep. Variable:            TARGET_5Yrs   No. Observations:                  670\n",
              "Model:                          Logit   Df Residuals:                      661\n",
              "Method:                           MLE   Df Model:                            8\n",
              "Date:                Sat, 08 Jan 2022   Pseudo R-squ.:                  0.1384\n",
              "Time:                        04:17:58   Log-Likelihood:                -376.62\n",
              "converged:                       True   LL-Null:                       -437.10\n",
              "Covariance Type:            nonrobust   LLR p-value:                 2.115e-22\n",
              "==============================================================================\n",
              "                 coef    std err          z      P>|z|      [0.025      0.975]\n",
              "------------------------------------------------------------------------------\n",
              "PC1            4.5450      0.569      7.991      0.000       3.430       5.660\n",
              "PC2           -1.3803      0.627     -2.201      0.028      -2.609      -0.151\n",
              "PC3           -2.7807      0.539     -5.160      0.000      -3.837      -1.724\n",
              "PC4           -0.2796      0.760     -0.368      0.713      -1.769       1.210\n",
              "PC5            0.1863      0.771      0.242      0.809      -1.325       1.698\n",
              "PC6            0.0357      0.844      0.042      0.966      -1.618       1.689\n",
              "PC7            1.5847      0.742      2.134      0.033       0.130       3.040\n",
              "PC8           -0.5102      0.851     -0.600      0.549      -2.178       1.158\n",
              "PC9            1.4031      0.957      1.466      0.143      -0.473       3.279\n",
              "==============================================================================\n",
              "\"\"\""
            ]
          },
          "metadata": {},
          "execution_count": 81
        }
      ],
      "source": [
        "model3_mle = sm.Logit(y_train3,x_train3)\n",
        "result3 = model3_mle.fit()\n",
        "result3.summary()"
      ]
    },
    {
      "cell_type": "markdown",
      "metadata": {
        "id": "zD9Djwj-3f8l"
      },
      "source": [
        "#### Checking the Accuracy, F1 score, Recall for CASE 3:"
      ]
    },
    {
      "cell_type": "code",
      "execution_count": null,
      "metadata": {
        "colab": {
          "base_uri": "https://localhost:8080/"
        },
        "id": "pylon4X43f8l",
        "outputId": "7cac588d-489c-47e7-acc5-558dc46d12b1"
      },
      "outputs": [
        {
          "output_type": "stream",
          "name": "stdout",
          "text": [
            "Accuracy:  0.7059701492537314\n",
            "F1 Score:  0.7865655471289273\n",
            "Recall:  0.8441860465116279\n"
          ]
        }
      ],
      "source": [
        "#Prediction on Train data\n",
        "y_train_pred3_mle = result3.predict(x_train3)\n",
        "rounded_y_train_pred3_mle = list(map(round, y_train_pred3_mle))\n",
        "\n",
        "#Testing the Accuracy, F1 score, Recall of Train data\n",
        "print('Accuracy: ',accuracy_score(y_train3,rounded_y_train_pred3_mle))\n",
        "print('F1 Score: ',f1_score(y_train3,rounded_y_train_pred3_mle))\n",
        "print('Recall: ',recall_score(y_train3,rounded_y_train_pred3_mle))"
      ]
    },
    {
      "cell_type": "markdown",
      "metadata": {
        "id": "XZ9-SCE-3f8m"
      },
      "source": [
        "#### Balancing the data for CASE 3"
      ]
    },
    {
      "cell_type": "code",
      "execution_count": null,
      "metadata": {
        "scrolled": true,
        "colab": {
          "base_uri": "https://localhost:8080/"
        },
        "id": "fwOKQ-ry3f8n",
        "outputId": "a22062d8-4cfc-44ff-ba6b-98a6b3075366"
      },
      "outputs": [
        {
          "output_type": "stream",
          "name": "stdout",
          "text": [
            "Optimization terminated successfully.\n",
            "         Current function value: 0.590688\n",
            "         Iterations 5\n"
          ]
        }
      ],
      "source": [
        "# Prediction on Train data\n",
        "model3_mle_new = sm.Logit(y_train3_new,x_train3_new)\n",
        "result3_new = model3_mle_new.fit()\n",
        "#Prediction on Train data\n",
        "y_train_pred3_mle_new = result3_new.predict(x_train3_new)\n",
        "rounded_y_train_pred3_mle_new = list(map(round, y_train_pred3_mle_new))"
      ]
    },
    {
      "cell_type": "code",
      "execution_count": null,
      "metadata": {
        "colab": {
          "base_uri": "https://localhost:8080/"
        },
        "id": "mpUo7Gcc3f8o",
        "outputId": "a4790ed2-3ac5-4e42-881b-99bd35e94bca"
      },
      "outputs": [
        {
          "output_type": "stream",
          "name": "stdout",
          "text": [
            "Accuracy:  0.6988372093023256\n",
            "F1 Score:  0.6956521739130435\n",
            "Recall:  0.6883720930232559\n"
          ]
        }
      ],
      "source": [
        "#Testing the Accuracy, F1 score, Recall of Train data\n",
        "print('Accuracy: ',accuracy_score(y_train3_new,rounded_y_train_pred3_mle_new))\n",
        "print('F1 Score: ',f1_score(y_train3_new,rounded_y_train_pred3_mle_new))\n",
        "print('Recall: ',recall_score(y_train3_new,rounded_y_train_pred3_mle_new))"
      ]
    },
    {
      "cell_type": "markdown",
      "metadata": {
        "id": "M4CNHKu73f8p"
      },
      "source": [
        "#### Observation\n",
        "-We have done the balancing on all cases of GD and MLE but our accuracy didn't improve for training data."
      ]
    },
    {
      "cell_type": "markdown",
      "metadata": {
        "id": "Fr067jyL3f8p"
      },
      "source": [
        "### Comparison of Results for Gradient Descent & MLE"
      ]
    },
    {
      "cell_type": "markdown",
      "metadata": {
        "id": "G-irQIJ33f8q"
      },
      "source": [
        "Logistic Regression  using MLE(Maximum Likelihood estimation) for Case 1 and Case 2 is having better accuracy for training data in compare to Gradient descent.\n",
        "Whereas for  case 3, accuracy is same for training data using MLE and Gradient Descent"
      ]
    },
    {
      "cell_type": "markdown",
      "metadata": {
        "id": "qtTMhQLp3f8r"
      },
      "source": [
        "### Performance Evaluation "
      ]
    },
    {
      "cell_type": "markdown",
      "metadata": {
        "id": "IZbW3OOn3f8r"
      },
      "source": [
        "### Using Gradient Descent "
      ]
    },
    {
      "cell_type": "markdown",
      "metadata": {
        "id": "XyfIgZ903f8s"
      },
      "source": [
        "#### Prediction for the test data and results for the inference"
      ]
    },
    {
      "cell_type": "code",
      "execution_count": null,
      "metadata": {
        "id": "23XICvCi3f8t"
      },
      "outputs": [],
      "source": [
        "# Prediction on Test data for CASE 1\n",
        "y_test_pred1 = LR1.predict( x_test1 ) "
      ]
    },
    {
      "cell_type": "code",
      "execution_count": null,
      "metadata": {
        "id": "iraYSfUR3f8u"
      },
      "outputs": [],
      "source": [
        "# Prediction on Test data for CASE 1\n",
        "y_test_pred1_new = LR1_new.predict( x_test1 ) "
      ]
    },
    {
      "cell_type": "code",
      "execution_count": null,
      "metadata": {
        "id": "l7wjJ6BN3f8u"
      },
      "outputs": [],
      "source": [
        "# Prediction on Test data for CASE 2\n",
        "y_test_pred2 = LR2.predict( x_test2 ) "
      ]
    },
    {
      "cell_type": "code",
      "execution_count": null,
      "metadata": {
        "id": "99X6TnNB3f8v"
      },
      "outputs": [],
      "source": [
        "# Prediction on Test data for CASE 3\n",
        "y_test_pred3 = LR3.predict( x_test3 ) "
      ]
    },
    {
      "cell_type": "markdown",
      "metadata": {
        "id": "oNkr1rcz3f8w"
      },
      "source": [
        "#### Print Accuracy, Recall, F1 Score and Confusion Matrix for Test data"
      ]
    },
    {
      "cell_type": "code",
      "execution_count": null,
      "metadata": {
        "colab": {
          "base_uri": "https://localhost:8080/"
        },
        "id": "3kPZFRq53f8w",
        "outputId": "b38a1b6b-d47f-4fed-d4aa-84c2ea417edc"
      },
      "outputs": [
        {
          "output_type": "stream",
          "name": "stdout",
          "text": [
            "Accuracy:  0.7089552238805971\n",
            "F1 Score:  0.7891891891891892\n",
            "Recall:  0.863905325443787\n",
            "\n",
            "Confusion Matrix:\n",
            "[[ 44  55]\n",
            " [ 23 146]]\n"
          ]
        }
      ],
      "source": [
        "#Testing the Accuracy, F1 score, Recall and Confusion Matrix for CASE 1\n",
        "from sklearn.metrics import confusion_matrix\n",
        "\n",
        "print('Accuracy: ',accuracy_score(y_test1,y_test_pred1))\n",
        "print('F1 Score: ',f1_score(y_test1,y_test_pred1))\n",
        "print('Recall: ',recall_score(y_test1,y_test_pred1))\n",
        "print()\n",
        "print('Confusion Matrix:')\n",
        "print(confusion_matrix(y_test1,y_test_pred1))"
      ]
    },
    {
      "cell_type": "markdown",
      "metadata": {
        "id": "Zd6bv7nX3f8y"
      },
      "source": [
        "#### Balancing for CASE 1"
      ]
    },
    {
      "cell_type": "code",
      "execution_count": null,
      "metadata": {
        "colab": {
          "base_uri": "https://localhost:8080/"
        },
        "id": "gVblKg-O3f8z",
        "outputId": "bc07f821-d960-4ef9-9bd3-eb000659c2fb"
      },
      "outputs": [
        {
          "output_type": "stream",
          "name": "stdout",
          "text": [
            "Accuracy:  0.7238805970149254\n",
            "F1 Score:  0.7701863354037266\n",
            "Recall:  0.7337278106508875\n",
            "\n",
            "Confusion Matrix:\n",
            "[[ 70  29]\n",
            " [ 45 124]]\n"
          ]
        }
      ],
      "source": [
        "#Testing the Accuracy, F1 score, Recall and Confusion Matrix for CASE 1\n",
        "from sklearn.metrics import confusion_matrix\n",
        "\n",
        "print('Accuracy: ',accuracy_score(y_test1,y_test_pred1_new))\n",
        "print('F1 Score: ',f1_score(y_test1,y_test_pred1_new))\n",
        "print('Recall: ',recall_score(y_test1,y_test_pred1_new))\n",
        "print()\n",
        "print('Confusion Matrix:')\n",
        "print(confusion_matrix(y_test1,y_test_pred1_new))"
      ]
    },
    {
      "cell_type": "code",
      "execution_count": null,
      "metadata": {
        "colab": {
          "base_uri": "https://localhost:8080/"
        },
        "id": "F6NdH2zX3f80",
        "outputId": "1d682b38-6642-4baa-b4bc-9488ddb512d9"
      },
      "outputs": [
        {
          "output_type": "stream",
          "name": "stdout",
          "text": [
            "Accuracy:  0.7014925373134329\n",
            "F1 Score:  0.7727272727272727\n",
            "Recall:  0.85\n",
            "\n",
            "Confusion Matrix:\n",
            "[[26 28]\n",
            " [12 68]]\n"
          ]
        }
      ],
      "source": [
        "#Testing the Accuracy, F1 score, Recall and Confusion Matrix for CASE 2\n",
        "from sklearn.metrics import confusion_matrix\n",
        "\n",
        "print('Accuracy: ',accuracy_score(y_test2,y_test_pred2))\n",
        "print('F1 Score: ',f1_score(y_test2,y_test_pred2))\n",
        "print('Recall: ',recall_score(y_test2,y_test_pred2))\n",
        "print()\n",
        "print('Confusion Matrix:')\n",
        "print(confusion_matrix(y_test2,y_test_pred2))"
      ]
    },
    {
      "cell_type": "markdown",
      "metadata": {
        "id": "9n5cNO7P3f81"
      },
      "source": [
        "#### Balancing for CASE 2"
      ]
    },
    {
      "cell_type": "code",
      "execution_count": null,
      "metadata": {
        "colab": {
          "base_uri": "https://localhost:8080/"
        },
        "id": "gHpzYudZ3f82",
        "outputId": "ed494b3b-81d9-4c12-c73a-44106b83fe89"
      },
      "outputs": [
        {
          "output_type": "stream",
          "name": "stdout",
          "text": [
            "Accuracy:  0.7388059701492538\n",
            "F1 Score:  0.7712418300653595\n",
            "Recall:  0.7375\n",
            "\n",
            "Confusion Matrix:\n",
            "[[40 14]\n",
            " [21 59]]\n"
          ]
        }
      ],
      "source": [
        "# Prediction on Test data for CASE 2\n",
        "y_test_pred2_new = LR2_new.predict( x_test2 ) \n",
        "#Testing the Accuracy, F1 score, Recall and Confusion Matrix for CASE 2\n",
        "print('Accuracy: ',accuracy_score(y_test2,y_test_pred2_new))\n",
        "print('F1 Score: ',f1_score(y_test2,y_test_pred2_new))\n",
        "print('Recall: ',recall_score(y_test2,y_test_pred2_new))\n",
        "print()\n",
        "print('Confusion Matrix:')\n",
        "print(confusion_matrix(y_test2,y_test_pred2_new))"
      ]
    },
    {
      "cell_type": "code",
      "execution_count": null,
      "metadata": {
        "colab": {
          "base_uri": "https://localhost:8080/"
        },
        "id": "DcJkiITE3f83",
        "outputId": "bde0520b-f7bc-47a4-d202-ef48988ba9f2"
      },
      "outputs": [
        {
          "output_type": "stream",
          "name": "stdout",
          "text": [
            "Accuracy:  0.6835820895522388\n",
            "F1 Score:  0.7700650759219089\n",
            "Recall:  0.885286783042394\n",
            "\n",
            "Confusion Matrix:\n",
            "[[103 166]\n",
            " [ 46 355]]\n"
          ]
        }
      ],
      "source": [
        "#Testing the Accuracy, F1 score, Recall and Confusion Matrix for CASE 3\n",
        "from sklearn.metrics import confusion_matrix\n",
        "\n",
        "print('Accuracy: ',accuracy_score(y_test3,y_test_pred3))\n",
        "print('F1 Score: ',f1_score(y_test3,y_test_pred3))\n",
        "print('Recall: ',recall_score(y_test3,y_test_pred3))\n",
        "print()\n",
        "print('Confusion Matrix:')\n",
        "print(confusion_matrix(y_test3,y_test_pred3))"
      ]
    },
    {
      "cell_type": "markdown",
      "metadata": {
        "id": "LPy9Zr5E3f84"
      },
      "source": [
        "#### Balancing for CASE 3"
      ]
    },
    {
      "cell_type": "code",
      "execution_count": null,
      "metadata": {
        "colab": {
          "base_uri": "https://localhost:8080/"
        },
        "id": "HVeleRE73f84",
        "outputId": "58492086-f840-4351-b4bc-c4a86ae2b636"
      },
      "outputs": [
        {
          "output_type": "stream",
          "name": "stdout",
          "text": [
            "Accuracy:  0.691044776119403\n",
            "F1 Score:  0.7342747111681643\n",
            "Recall:  0.713216957605985\n",
            "\n",
            "Confusion Matrix:\n",
            "[[177  92]\n",
            " [115 286]]\n"
          ]
        }
      ],
      "source": [
        "# Prediction on Test data for CASE 2\n",
        "y_test_pred3_new = LR3_new.predict( x_test3 ) \n",
        "#Testing the Accuracy, F1 score, Recall and Confusion Matrix for CASE 2\n",
        "print('Accuracy: ',accuracy_score(y_test3,y_test_pred3_new))\n",
        "print('F1 Score: ',f1_score(y_test3,y_test_pred3_new))\n",
        "print('Recall: ',recall_score(y_test3,y_test_pred3_new))\n",
        "print()\n",
        "print('Confusion Matrix:')\n",
        "print(confusion_matrix(y_test3,y_test_pred3_new))"
      ]
    },
    {
      "cell_type": "markdown",
      "metadata": {
        "id": "-LghodBl3f85"
      },
      "source": [
        "#### Observation\n",
        "-We are doing this balancing on test data and our accuracy has improved for test data."
      ]
    },
    {
      "cell_type": "markdown",
      "metadata": {
        "id": "Osggpta73f86"
      },
      "source": [
        "### Using Maximum Likelihood Estimation"
      ]
    },
    {
      "cell_type": "markdown",
      "metadata": {
        "id": "FlvrIiB53f87"
      },
      "source": [
        "#### Prediction for the test data and results for the inference"
      ]
    },
    {
      "cell_type": "code",
      "execution_count": null,
      "metadata": {
        "id": "33GM-B573f87"
      },
      "outputs": [],
      "source": [
        "# Prediction on Test data for CASE 1\n",
        "y_test_pred1_mle = result1.predict( x_test1 ) \n",
        "rounded_y_test_pred1_mle = list(map(round, y_test_pred1_mle))"
      ]
    },
    {
      "cell_type": "code",
      "execution_count": null,
      "metadata": {
        "id": "mlV277ed3f88"
      },
      "outputs": [],
      "source": [
        "# Prediction on Test data for CASE 2\n",
        "y_test_pred2_mle = result2.predict( x_test2 ) \n",
        "rounded_y_test_pred2_mle = list(map(round, y_test_pred2_mle))"
      ]
    },
    {
      "cell_type": "code",
      "execution_count": null,
      "metadata": {
        "id": "8ffhAJBp3f88"
      },
      "outputs": [],
      "source": [
        "# Prediction on Test data for CASE 3\n",
        "y_test_pred3_mle = result3.predict( x_test3 ) \n",
        "rounded_y_test_pred3_mle = list(map(round, y_test_pred3_mle))"
      ]
    },
    {
      "cell_type": "markdown",
      "metadata": {
        "id": "6YxA5c0s3f89"
      },
      "source": [
        "#### Print Accuracy, Recall, F1 Score and Confusion Matrix for Test data"
      ]
    },
    {
      "cell_type": "code",
      "execution_count": null,
      "metadata": {
        "colab": {
          "base_uri": "https://localhost:8080/"
        },
        "id": "UsFkJiBr3f8-",
        "outputId": "530b28ce-4f82-44f1-fba3-b36b67cbd2d6"
      },
      "outputs": [
        {
          "output_type": "stream",
          "name": "stdout",
          "text": [
            "Accuracy:  0.7201492537313433\n",
            "F1 Score:  0.7910863509749303\n",
            "Recall:  0.8402366863905325\n",
            "\n",
            "Confusion Matrix:\n",
            "[[ 51  48]\n",
            " [ 27 142]]\n"
          ]
        }
      ],
      "source": [
        "#Testing the Accuracy, F1 score, Recall and Confusion Matrix for CASE 1\n",
        "print('Accuracy: ',accuracy_score(y_test1,rounded_y_test_pred1_mle))\n",
        "print('F1 Score: ',f1_score(y_test1,rounded_y_test_pred1_mle))\n",
        "print('Recall: ',recall_score(y_test1,rounded_y_test_pred1_mle))\n",
        "print()\n",
        "print('Confusion Matrix:')\n",
        "print(confusion_matrix(y_test1,rounded_y_test_pred1_mle))"
      ]
    },
    {
      "cell_type": "markdown",
      "metadata": {
        "id": "a-g9mYdh3f8_"
      },
      "source": [
        "#### Balancing on CASE 1"
      ]
    },
    {
      "cell_type": "code",
      "execution_count": null,
      "metadata": {
        "colab": {
          "base_uri": "https://localhost:8080/"
        },
        "id": "nj-WJU-P3f8_",
        "outputId": "2dfecb80-08ca-4099-c991-76cc51e11e5f"
      },
      "outputs": [
        {
          "output_type": "stream",
          "name": "stdout",
          "text": [
            "Accuracy:  0.7238805970149254\n",
            "F1 Score:  0.7716049382716049\n",
            "Recall:  0.7396449704142012\n",
            "\n",
            "Confusion Matrix:\n",
            "[[ 69  30]\n",
            " [ 44 125]]\n"
          ]
        }
      ],
      "source": [
        "# Prediction on Test data for CASE 1\n",
        "y_test_pred1_mle_new = result1_new.predict( x_test1 ) \n",
        "rounded_y_test_pred1_mle_new = list(map(round, y_test_pred1_mle_new))\n",
        "#Testing the Accuracy, F1 score, Recall and Confusion Matrix for CASE 1\n",
        "print('Accuracy: ',accuracy_score(y_test1,rounded_y_test_pred1_mle_new))\n",
        "print('F1 Score: ',f1_score(y_test1,rounded_y_test_pred1_mle_new))\n",
        "print('Recall: ',recall_score(y_test1,rounded_y_test_pred1_mle_new))\n",
        "print()\n",
        "print('Confusion Matrix:')\n",
        "print(confusion_matrix(y_test1,rounded_y_test_pred1_mle_new))"
      ]
    },
    {
      "cell_type": "code",
      "execution_count": null,
      "metadata": {
        "colab": {
          "base_uri": "https://localhost:8080/"
        },
        "id": "6anDwDGa3f9A",
        "outputId": "1fd0d067-440c-4516-f77d-e7f2bda4b18b"
      },
      "outputs": [
        {
          "output_type": "stream",
          "name": "stdout",
          "text": [
            "Accuracy:  0.7238805970149254\n",
            "F1 Score:  0.7836257309941521\n",
            "Recall:  0.8375\n",
            "\n",
            "Confusion Matrix:\n",
            "[[30 24]\n",
            " [13 67]]\n"
          ]
        }
      ],
      "source": [
        "#Testing the Accuracy, F1 score, Recall and Confusion Matrix for CASE 2\n",
        "print('Accuracy: ',accuracy_score(y_test2,rounded_y_test_pred2_mle))\n",
        "print('F1 Score: ',f1_score(y_test2,rounded_y_test_pred2_mle))\n",
        "print('Recall: ',recall_score(y_test2,rounded_y_test_pred2_mle))\n",
        "print()\n",
        "print('Confusion Matrix:')\n",
        "print(confusion_matrix(y_test2,rounded_y_test_pred2_mle))"
      ]
    },
    {
      "cell_type": "markdown",
      "metadata": {
        "id": "HDIks_6v3f9B"
      },
      "source": [
        "#### Balancing on CASE 2"
      ]
    },
    {
      "cell_type": "code",
      "execution_count": null,
      "metadata": {
        "colab": {
          "base_uri": "https://localhost:8080/"
        },
        "id": "W2PSMbqt3f9C",
        "outputId": "2cc9cbd8-aeba-4a0e-8f08-0d27d2e15252"
      },
      "outputs": [
        {
          "output_type": "stream",
          "name": "stdout",
          "text": [
            "Accuracy:  0.7388059701492538\n",
            "F1 Score:  0.7682119205298014\n",
            "Recall:  0.725\n",
            "\n",
            "Confusion Matrix:\n",
            "[[41 13]\n",
            " [22 58]]\n"
          ]
        }
      ],
      "source": [
        "# Prediction on Test data for CASE 2\n",
        "y_test_pred2_mle_new = result2_new.predict( x_test2 ) \n",
        "rounded_y_test_pred2_mle_new = list(map(round, y_test_pred2_mle_new))\n",
        "#Testing the Accuracy, F1 score, Recall and Confusion Matrix for CASE 1\n",
        "print('Accuracy: ',accuracy_score(y_test2,rounded_y_test_pred2_mle_new))\n",
        "print('F1 Score: ',f1_score(y_test2,rounded_y_test_pred2_mle_new))\n",
        "print('Recall: ',recall_score(y_test2,rounded_y_test_pred2_mle_new))\n",
        "print()\n",
        "print('Confusion Matrix:')\n",
        "print(confusion_matrix(y_test2,rounded_y_test_pred2_mle_new))"
      ]
    },
    {
      "cell_type": "code",
      "execution_count": null,
      "metadata": {
        "colab": {
          "base_uri": "https://localhost:8080/"
        },
        "id": "_J1haDFK3f9D",
        "outputId": "0234f3f1-a634-4576-df31-61b21cf4d2d5"
      },
      "outputs": [
        {
          "output_type": "stream",
          "name": "stdout",
          "text": [
            "Accuracy:  0.6925373134328359\n",
            "F1 Score:  0.7700892857142858\n",
            "Recall:  0.8603491271820449\n",
            "\n",
            "Confusion Matrix:\n",
            "[[119 150]\n",
            " [ 56 345]]\n"
          ]
        }
      ],
      "source": [
        "#Testing the Accuracy, F1 score, Recall and Confusion Matrix for CASE 3\n",
        "print('Accuracy: ',accuracy_score(y_test3,rounded_y_test_pred3_mle))\n",
        "print('F1 Score: ',f1_score(y_test3,rounded_y_test_pred3_mle))\n",
        "print('Recall: ',recall_score(y_test3,rounded_y_test_pred3_mle))\n",
        "print()\n",
        "print('Confusion Matrix:')\n",
        "print(confusion_matrix(y_test3,rounded_y_test_pred3_mle))"
      ]
    },
    {
      "cell_type": "markdown",
      "metadata": {
        "id": "JDwViWeB3f9E"
      },
      "source": [
        "#### Balancing on CASE 3"
      ]
    },
    {
      "cell_type": "code",
      "execution_count": null,
      "metadata": {
        "colab": {
          "base_uri": "https://localhost:8080/"
        },
        "id": "k1iXHWf43f9E",
        "outputId": "d25072e4-bdb2-48b0-a22c-9adf79c0f04c"
      },
      "outputs": [
        {
          "output_type": "stream",
          "name": "stdout",
          "text": [
            "Accuracy:  0.6940298507462687\n",
            "F1 Score:  0.736842105263158\n",
            "Recall:  0.71571072319202\n",
            "\n",
            "Confusion Matrix:\n",
            "[[178  91]\n",
            " [114 287]]\n"
          ]
        }
      ],
      "source": [
        "# Prediction on Test data for CASE 2\n",
        "y_test_pred3_mle_new = result3_new.predict( x_test3 ) \n",
        "rounded_y_test_pred3_mle_new = list(map(round, y_test_pred3_mle_new))\n",
        "#Testing the Accuracy, F1 score, Recall and Confusion Matrix for CASE 1\n",
        "print('Accuracy: ',accuracy_score(y_test3,rounded_y_test_pred3_mle_new))\n",
        "print('F1 Score: ',f1_score(y_test3,rounded_y_test_pred3_mle_new))\n",
        "print('Recall: ',recall_score(y_test3,rounded_y_test_pred3_mle_new))\n",
        "print()\n",
        "print('Confusion Matrix:')\n",
        "print(confusion_matrix(y_test3,rounded_y_test_pred3_mle_new))"
      ]
    },
    {
      "cell_type": "markdown",
      "metadata": {
        "id": "-Zy-BeRP3f9F"
      },
      "source": [
        "#### Observation\n",
        "-We are doing this balancing on test data and our accuracy has improved for test data."
      ]
    },
    {
      "cell_type": "markdown",
      "metadata": {
        "id": "IpGGnJQs3f9G"
      },
      "source": [
        "#### Comparison of the Accuracy of Train and Test data"
      ]
    },
    {
      "cell_type": "code",
      "execution_count": null,
      "metadata": {
        "colab": {
          "base_uri": "https://localhost:8080/"
        },
        "id": "60GZdxeW3f9G",
        "outputId": "39edc6db-d48c-4b67-f44f-c9e49859a139"
      },
      "outputs": [
        {
          "output_type": "stream",
          "name": "stdout",
          "text": [
            "============================================\n",
            "Train Accuracy GD Case 1:  0.7098880597014925\n",
            "Test Accuracy GD Case 1:  0.7089552238805971\n",
            "============================================\n",
            "Train Accuracy GD Case 2:  0.7106135986733002\n",
            "Test Accuracy GD Case 2:  0.7014925373134329\n",
            "============================================\n",
            "Train Accuracy GD Case 3:  0.7119402985074627\n",
            "Test Accuracy GD Case 3:  0.6835820895522388\n",
            "============================================\n",
            "Train Accuracy MLE Case 1:  0.6930970149253731\n",
            "Test Accuracy MLE Case 1:  0.7201492537313433\n",
            "============================================\n",
            "Train Accuracy MLE Case 2:  0.7014925373134329\n",
            "Test Accuracy MLE Case 2:  0.7238805970149254\n",
            "============================================\n",
            "Train Accuracy MLE Case 3:  0.7059701492537314\n",
            "Test Accuracy MLE Case 3:  0.6925373134328359\n",
            "============================================\n"
          ]
        }
      ],
      "source": [
        "print('============================================')\n",
        "print('Train Accuracy GD Case 1: ',accuracy_score(y_train1,y_train_pred1))\n",
        "print('Test Accuracy GD Case 1: ',accuracy_score(y_test1,y_test_pred1))\n",
        "print('============================================')\n",
        "\n",
        "print('Train Accuracy GD Case 2: ',accuracy_score(y_train2,y_train_pred2))\n",
        "print('Test Accuracy GD Case 2: ',accuracy_score(y_test2,y_test_pred2))\n",
        "print('============================================')\n",
        "\n",
        "print('Train Accuracy GD Case 3: ',accuracy_score(y_train3,y_train_pred3))\n",
        "print('Test Accuracy GD Case 3: ',accuracy_score(y_test3,y_test_pred3))\n",
        "print('============================================')\n",
        "print('Train Accuracy MLE Case 1: ',accuracy_score(y_train1,rounded_y_train_pred1_mle))\n",
        "print('Test Accuracy MLE Case 1: ',accuracy_score(y_test1,rounded_y_test_pred1_mle))\n",
        "print('============================================')\n",
        "print('Train Accuracy MLE Case 2: ',accuracy_score(y_train2,rounded_y_train_pred2_mle))\n",
        "print('Test Accuracy MLE Case 2: ',accuracy_score(y_test2,rounded_y_test_pred2_mle))\n",
        "print('============================================')\n",
        "print('Train Accuracy MLE Case 3: ',accuracy_score(y_train3,rounded_y_train_pred3_mle))\n",
        "print('Test Accuracy MLE Case 3: ',accuracy_score(y_test3,rounded_y_test_pred3_mle))\n",
        "print('============================================')"
      ]
    },
    {
      "cell_type": "markdown",
      "metadata": {
        "id": "NFBMAfWI3f9H"
      },
      "source": [
        "### Visualization of Performances"
      ]
    },
    {
      "cell_type": "code",
      "execution_count": null,
      "metadata": {
        "colab": {
          "base_uri": "https://localhost:8080/",
          "height": 320
        },
        "id": "jfV-mXBb3f9I",
        "outputId": "8c8cf523-9bd4-460a-c888-883791caff8d"
      },
      "outputs": [
        {
          "output_type": "display_data",
          "data": {
            "image/png": "[encoded data removed]",
            "text/plain": [
              "<Figure size 720x360 with 1 Axes>"
            ]
          },
          "metadata": {
            "needs_background": "light"
          }
        }
      ],
      "source": [
        "names = ['GD CASE 1','MLE CASE 1','GD CASE 2','MLE CASE 2','GD CASE 3','MLE CASE 3']\n",
        "values = [0.7313,0.7238,0.7014,0.7238,0.6746, 0.6865]\n",
        "f = plt.figure(figsize=(10,5),num=10)\n",
        "\n",
        "plt.bar(names,values)\n",
        "plt.show()"
      ]
    },
    {
      "cell_type": "markdown",
      "metadata": {
        "id": "EN2tSXCS3f9J"
      },
      "source": [
        "### Analysis for All Cases"
      ]
    },
    {
      "cell_type": "markdown",
      "metadata": {
        "id": "cCPNffAw3f9K"
      },
      "source": [
        "Logistic Regression using Gradient descent for Case 1 is having better test accuracy than MLE(Maximum Likelihood estimation).\n",
        "Whereas for case 2 and case 3, test accuracy is better for MLE in compared to Gradient Descent"
      ]
    },
    {
      "cell_type": "markdown",
      "metadata": {
        "id": "z6pa3a6-3f9L"
      },
      "source": [
        "### Observation"
      ]
    },
    {
      "cell_type": "markdown",
      "metadata": {
        "id": "T6u2h2M63f9M"
      },
      "source": [
        "**CASE 1**\n",
        "\n",
        "-Accuracy for test data is better by using Gradient Descent in compared to Maximum Likelihood Estimation\n",
        "\n",
        "**CASE 2**\n",
        "\n",
        "-Accuracy for test data is better by using Maximum Likelihood Estimation in compared to Gradient Descent\n",
        "\n",
        "\n",
        "**CASE 3**\n",
        "\n",
        "-Accuracy for test data is better by using Maximum Likelihood Estimation in compared to Gradient Descent\n"
      ]
    },
    {
      "cell_type": "code",
      "execution_count": null,
      "metadata": {
        "id": "tercG1rM3f9M"
      },
      "outputs": [],
      "source": [
        ""
      ]
    }
  ],
  "metadata": {
    "kernelspec": {
      "display_name": "Python 3",
      "language": "python",
      "name": "python3"
    },
    "language_info": {
      "codemirror_mode": {
        "name": "ipython",
        "version": 3
      },
      "file_extension": ".py",
      "mimetype": "text/x-python",
      "name": "python",
      "nbconvert_exporter": "python",
      "pygments_lexer": "ipython3",
      "version": "3.7.4"
    },
    "colab": {
      "name": "NBA_LogisticRegression.ipynb",
      "provenance": []
    }
  },
  "nbformat": 4,
  "nbformat_minor": 0
}